{
 "cells": [
  {
   "attachments": {},
   "cell_type": "markdown",
   "metadata": {},
   "source": [
    "# 3.16 Notes\n",
    "> Lesson about simulations and what they're used for \n",
    "\n",
    "- toc: true\n",
    "- badges: false\n",
    "- comments: true\n",
    "- categories: [collegeboard]"
   ]
  },
  {
   "attachments": {},
   "cell_type": "markdown",
   "metadata": {},
   "source": [
    "# First Order of Business: Get your notebook \n",
    "\n",
    "- Open a terminal in vscode, run command: cd _notebooks, type 'wget' and paste this link into said terminal and run it \n",
    "\n",
    "- Take notes wherever you please, but you will be graded on participating "
   ]
  },
  {
   "attachments": {},
   "cell_type": "markdown",
   "metadata": {},
   "source": [
    "# So, what is a simulation anyway? \n",
    "\n",
    "- A simulation is a tested scenario used for viewing results/outputs to prepare for them in real world situations \n",
    "\n",
    "- These can be used for games like dice rolling, spinners, etc \n",
    "\n",
    "- These can be used for practical things such as building structures, testing car crashes, and other things before engaging in them in the real world \n",
    "\n",
    "- These simulations can have the option of obeying real world physics (Gravity, collision) or they can go against these norms since this is a fictitious scenario, and couldn't happen in real life"
   ]
  },
  {
   "attachments": {},
   "cell_type": "markdown",
   "metadata": {},
   "source": [
    "# Big Question \n",
    "\n",
    "- Which of the following simulations could be the LEAST useful? \n",
    "\n",
    "- A retailer trying to identify which products sold the most \n",
    "- A restaurant determining the efficiency of robots \n",
    "- An insurance company studying the rain impact of cars \n",
    "- A sports bike company studying design changes to their new bike design \n",
    "\n",
    "\n",
    "\n",
    "- If you guessed a bike company, you're wrong, because the retail simulation was the right answer. Simulating robots in food service, sudying rain impact on vehicles, and new bike design can contribute a lot more to society in comparison to seeing what products sell more than others. \n"
   ]
  },
  {
   "attachments": {},
   "cell_type": "markdown",
   "metadata": {},
   "source": [
    "# Next Big Question \n",
    "\n",
    "If you were making a simulation for making a new train station, which of the following would be true about this simulation? \n",
    "\n",
    "- It could reveal potential problems/safety issues before construction starts \n",
    "- It cannot be used to test the train station in different weather \n",
    "- Simulation will add high costs to projects \n",
    "- Simulation is not needed because this train station already exists  \n",
    "\n",
    "\n",
    "\n",
    "\n",
    "- Potential Saftey was the right answer, because you need somewhere to test the safety and ethicness of what you're about to do before you start building it. Otherwise, let's just say you'll have a special plaque for FBI's Most Wanted\n"
   ]
  },
  {
   "attachments": {},
   "cell_type": "markdown",
   "metadata": {},
   "source": [
    "# Simulation 1: \n",
    "\n",
    "Both programs below do the same thing. Given a height and a weight, they calculate how long it will take for a object to fall to the ground in a vacuum subjected to normal Earth levels of gravity. \n",
    "\n",
    "However, the second one is a simulation. It calculates the distance the object has fallen every 0.1 seconds. This is useful for if you wanted a visual representation of a falling object, which pure math can't do as smoothly. "
   ]
  },
  {
   "cell_type": "code",
   "execution_count": 1,
   "metadata": {},
   "outputs": [
    {
     "name": "stdout",
     "output_type": "stream",
     "text": [
      "It will take 1.9691498217271746 seconds for an object that weighs 5 pounds to fall  19.0 meters in a vacuum\n"
     ]
    }
   ],
   "source": [
    "height = float(input(\"height in meters?\"))\n",
    "\n",
    "weight = input(\"weight in pounds?\")\n",
    "\n",
    "stuff = (2 * (height / 9.8))**(1/2)\n",
    "\n",
    "print(\"It will take\", stuff,\"seconds for an object that weighs\",weight,\"pounds\",\"to fall \",height,\"meters in a vacuum\")"
   ]
  },
  {
   "cell_type": "code",
   "execution_count": 2,
   "metadata": {},
   "outputs": [
    {
     "name": "stdout",
     "output_type": "stream",
     "text": [
      "2.0000000000000004\n",
      "19.60000000000001\n"
     ]
    }
   ],
   "source": [
    "t = 0\n",
    "g = 0\n",
    "d = 0\n",
    "false = True\n",
    "while false:\n",
    "    t = t + 0.1\n",
    "    d = 9.8 / 2 * (t**2)\n",
    "    if d >= height:\n",
    "        false = False\n",
    "    #print(d) # if you want to print the distance every time it calculates it. Too long to output to a terminal, but this could be useful to display graphically. \n",
    "    #print(t)\n",
    "\n",
    "print(t)\n",
    "print(d)"
   ]
  },
  {
   "attachments": {},
   "cell_type": "markdown",
   "metadata": {},
   "source": [
    "# Simulation 2: \n",
    "\n",
    "- This simulation is made in order to simulate movement on a 2d plane vs a 3d plane.  \n",
    "\n",
    "- How it works: we have multiple variables, if statements and equations under a while command in order to randomy generate steps on a 2d plane. Once it reaches the set destination, it will say that the man made it home after x amount of steps. \n",
    "\n",
    "- For the 3D plane, it takes a lot longer due to how big and open the 3d environment is, so there are more if statements in the 3d plane \n",
    "\n",
    "(explain further)\n",
    "\n"
   ]
  },
  {
   "cell_type": "code",
   "execution_count": 3,
   "metadata": {},
   "outputs": [
    {
     "name": "stdout",
     "output_type": "stream",
     "text": [
      "The Man Has Made It Home After  2 Turns\n",
      "The Man Has Made It Home After  82714 Turns\n",
      "The Man Has Made It Home After  30786 Turns\n",
      "The Man Has Made It Home After  87972 Turns\n",
      "The Man Has Made It Home After  336 Turns\n",
      "The Man Has Made It Home After  2 Turns\n",
      "( 143 355 )\n",
      "( 1051 827 )\n",
      "( 961 1379 )\n",
      "( 667 679 )\n",
      "( 1973 -245 )\n",
      "( 1168 1388 )\n",
      "( 2347 1597 )\n",
      "( 1622 1276 )\n",
      "( 942 124 )\n",
      "( 1421 465 )\n",
      "Caped\n",
      "The Man Has Made It Home After  26 Turns\n",
      "The Man Has Made It Home After  188 Turns\n",
      "The Man Has Made It Home After  92 Turns\n",
      "The Man Has Made It Home After  4 Turns\n",
      "The Man Has Made It Home After  2550 Turns\n",
      "The Man Has Made It Home After  400 Turns\n",
      "The Man Has Made It Home After  2 Turns\n",
      "The Man Has Made It Home After  4 Turns\n",
      "The Man Has Made It Home After  2 Turns\n",
      "The Man Has Made It Home After  4 Turns\n",
      "The Man Has Made It Home After  2 Turns\n",
      "( -147 -607 )\n",
      "( 218 -1508 )\n",
      "( 363 -267 )\n",
      "( 808 -364 )\n",
      "( -542 -748 )\n",
      "( -760 -748 )\n",
      "( 424 -386 )\n",
      "( 1599 -1001 )\n",
      "( 1994 614 )\n",
      "( 2518 -160 )\n",
      "Caped\n",
      "( -395 -315 )\n",
      "( -605 -857 )\n",
      "( -1245 137 )\n",
      "( 24 -634 )\n",
      "( -1143 -1429 )\n",
      "( -1185 -421 )\n",
      "( -148 -1216 )\n",
      "( -198 -1672 )\n",
      "( 805 -1235 )\n",
      "( 1221 -5 )\n",
      "Caped\n",
      "The Man Has Made It Home After  838810 Turns\n",
      "The Man Has Made It Home After  2 Turns\n",
      "( 264 960 )\n",
      "( 1078 1790 )\n",
      "( 1415 2227 )\n",
      "( 991 2559 )\n",
      "( 2379 3171 )\n"
     ]
    },
    {
     "ename": "KeyboardInterrupt",
     "evalue": "",
     "output_type": "error",
     "traceback": [
      "\u001b[0;31m---------------------------------------------------------------------------\u001b[0m",
      "\u001b[0;31mKeyboardInterrupt\u001b[0m                         Traceback (most recent call last)",
      "\u001b[1;32m/home/jishnus/vscode/CSP-tri1/_notebooks/2022-12-12-Simulations.ipynb Cell 10\u001b[0m in \u001b[0;36m<cell line: 9>\u001b[0;34m()\u001b[0m\n\u001b[1;32m      <a href='vscode-notebook-cell://wsl%2Bubuntu/home/jishnus/vscode/CSP-tri1/_notebooks/2022-12-12-Simulations.ipynb#X12sdnNjb2RlLXJlbW90ZQ%3D%3D?line=6'>7</a>\u001b[0m turns \u001b[39m=\u001b[39m []\n\u001b[1;32m      <a href='vscode-notebook-cell://wsl%2Bubuntu/home/jishnus/vscode/CSP-tri1/_notebooks/2022-12-12-Simulations.ipynb#X12sdnNjb2RlLXJlbW90ZQ%3D%3D?line=8'>9</a>\u001b[0m \u001b[39mwhile\u001b[39;00m (nights \u001b[39m<\u001b[39m \u001b[39m100\u001b[39m):\n\u001b[0;32m---> <a href='vscode-notebook-cell://wsl%2Bubuntu/home/jishnus/vscode/CSP-tri1/_notebooks/2022-12-12-Simulations.ipynb#X12sdnNjb2RlLXJlbW90ZQ%3D%3D?line=9'>10</a>\u001b[0m     step \u001b[39m=\u001b[39m random\u001b[39m.\u001b[39;49mrandrange(\u001b[39m4\u001b[39;49m)\n\u001b[1;32m     <a href='vscode-notebook-cell://wsl%2Bubuntu/home/jishnus/vscode/CSP-tri1/_notebooks/2022-12-12-Simulations.ipynb#X12sdnNjb2RlLXJlbW90ZQ%3D%3D?line=10'>11</a>\u001b[0m     \u001b[39mif\u001b[39;00m step \u001b[39m==\u001b[39m \u001b[39m0\u001b[39m:\n\u001b[1;32m     <a href='vscode-notebook-cell://wsl%2Bubuntu/home/jishnus/vscode/CSP-tri1/_notebooks/2022-12-12-Simulations.ipynb#X12sdnNjb2RlLXJlbW90ZQ%3D%3D?line=11'>12</a>\u001b[0m         x \u001b[39m=\u001b[39m x\u001b[39m+\u001b[39m\u001b[39m1\u001b[39m\n",
      "File \u001b[0;32m~/anaconda3/lib/python3.9/random.py:290\u001b[0m, in \u001b[0;36mRandom.randrange\u001b[0;34m(self, start, stop, step)\u001b[0m\n\u001b[1;32m    285\u001b[0m     \u001b[39mreturn\u001b[39;00m \u001b[39mself\u001b[39m\u001b[39m.\u001b[39mgetrandbits(n \u001b[39m*\u001b[39m \u001b[39m8\u001b[39m)\u001b[39m.\u001b[39mto_bytes(n, \u001b[39m'\u001b[39m\u001b[39mlittle\u001b[39m\u001b[39m'\u001b[39m)\n\u001b[1;32m    288\u001b[0m \u001b[39m## -------------------- integer methods  -------------------\u001b[39;00m\n\u001b[0;32m--> 290\u001b[0m \u001b[39mdef\u001b[39;00m \u001b[39mrandrange\u001b[39m(\u001b[39mself\u001b[39m, start, stop\u001b[39m=\u001b[39m\u001b[39mNone\u001b[39;00m, step\u001b[39m=\u001b[39m\u001b[39m1\u001b[39m):\n\u001b[1;32m    291\u001b[0m     \u001b[39m\"\"\"Choose a random item from range(start, stop[, step]).\u001b[39;00m\n\u001b[1;32m    292\u001b[0m \n\u001b[1;32m    293\u001b[0m \u001b[39m    This fixes the problem with randint() which includes the\u001b[39;00m\n\u001b[1;32m    294\u001b[0m \u001b[39m    endpoint; in Python this is usually not what you want.\u001b[39;00m\n\u001b[1;32m    295\u001b[0m \n\u001b[1;32m    296\u001b[0m \u001b[39m    \"\"\"\u001b[39;00m\n\u001b[1;32m    298\u001b[0m     \u001b[39m# This code is a bit messy to make it fast for the\u001b[39;00m\n\u001b[1;32m    299\u001b[0m     \u001b[39m# common case while still doing adequate error checking.\u001b[39;00m\n",
      "\u001b[0;31mKeyboardInterrupt\u001b[0m: "
     ]
    }
   ],
   "source": [
    "import random\n",
    "x = 0\n",
    "y = 0\n",
    "nights = 0\n",
    "turn = 0\n",
    "stopped = 0\n",
    "turns = []\n",
    "\n",
    "while (nights < 100):\n",
    "    step = random.randrange(4)\n",
    "    if step == 0:\n",
    "        x = x+1\n",
    "    if step == 1:\n",
    "        x = x-1\n",
    "    if step == 2:\n",
    "        y = y+1\n",
    "    if step == 3:\n",
    "        y = y-1\n",
    "\n",
    "    turn = turn + 1\n",
    "\n",
    "    if x == 0 and y == 0:\n",
    "        nights = nights + 1\n",
    "        print(\"The Man Has Made It Home After \", turn, \"Turns\")\n",
    "        turns.append(turn)\n",
    "        turn = 0\n",
    "    if turn/1000 % 1000 == 0 and x + y != 0:\n",
    "        print(\"(\", x,y, \")\")\n",
    "    if (turn > 10000000):\n",
    "        stopped = stopped + 1\n",
    "        turn = 0\n",
    "        x = 0\n",
    "        y = 0\n",
    "        nights = nights + 1\n",
    "        print(\"Caped\")\n",
    "\n",
    "average = sum(turns) / len(turns)\n",
    "print(\"Avaerage\", average, \"Ones that when't too long \", stopped)"
   ]
  },
  {
   "cell_type": "code",
   "execution_count": 4,
   "metadata": {},
   "outputs": [
    {
     "name": "stdout",
     "output_type": "stream",
     "text": [
      "( 473 -588 )  |  -573\n",
      "( 226 -1507 )  |  -271\n",
      "( 1305 -2604 )  |  509\n",
      "( 384 -2219 )  |  153\n",
      "( -668 -1746 )  |  482\n",
      "( -1635 -1903 )  |  124\n",
      "( -1731 -2737 )  |  -810\n",
      "( -2751 -2570 )  |  -1553\n",
      "( -2745 -2229 )  |  -2498\n",
      "( -2807 -2844 )  |  -1537\n",
      "Caped\n",
      "( -333 2070 )  |  -249\n",
      "( 620 666 )  |  136\n",
      "( 314 1481 )  |  563\n",
      "( 422 1434 )  |  -180\n",
      "( 738 1624 )  |  -582\n",
      "( 708 1770 )  |  -152\n",
      "( 283 929 )  |  -826\n",
      "( 354 1845 )  |  133\n",
      "( 155 2145 )  |  506\n",
      "( 157 1915 )  |  584\n",
      "Caped\n",
      "( 158 60 )  |  -1328\n",
      "( 580 1409 )  |  -1993\n",
      "( 1459 1626 )  |  -2573\n",
      "( 447 1195 )  |  -3244\n",
      "( 533 1080 )  |  -3573\n",
      "( -19 1624 )  |  -4021\n",
      "( 166 1604 )  |  -4158\n",
      "( 575 2133 )  |  -3192\n",
      "( 584 1834 )  |  -3262\n",
      "( 1026 1803 )  |  -2315\n",
      "Caped\n",
      "The Bird Has Made It Home After  14 Turns\n",
      "The Bird Has Made It Home After  4 Turns\n",
      "( 1231 -8 )  |  -419\n",
      "( 1008 -475 )  |  -857\n",
      "( 418 -526 )  |  -628\n",
      "( -341 -2138 )  |  -771\n",
      "( -116 -1333 )  |  -375\n",
      "( 856 -976 )  |  -518\n",
      "( 369 -1348 )  |  -1043\n",
      "( 1114 -2008 )  |  -1588\n",
      "( 2115 -1845 )  |  -1712\n",
      "( 2532 -2199 )  |  -1437\n",
      "Caped\n",
      "( -814 1026 )  |  -160\n",
      "( -1115 1543 )  |  -394\n",
      "( -165 1210 )  |  -1151\n",
      "( -517 1154 )  |  -413\n"
     ]
    },
    {
     "ename": "KeyboardInterrupt",
     "evalue": "",
     "output_type": "error",
     "traceback": [
      "\u001b[0;31m---------------------------------------------------------------------------\u001b[0m",
      "\u001b[0;31mKeyboardInterrupt\u001b[0m                         Traceback (most recent call last)",
      "\u001b[1;32m/home/jishnus/vscode/CSP-tri1/_notebooks/2022-12-12-Simulations.ipynb Cell 11\u001b[0m in \u001b[0;36m<cell line: 10>\u001b[0;34m()\u001b[0m\n\u001b[1;32m     <a href='vscode-notebook-cell://wsl%2Bubuntu/home/jishnus/vscode/CSP-tri1/_notebooks/2022-12-12-Simulations.ipynb#X13sdnNjb2RlLXJlbW90ZQ%3D%3D?line=18'>19</a>\u001b[0m \u001b[39mif\u001b[39;00m step \u001b[39m==\u001b[39m \u001b[39m3\u001b[39m:\n\u001b[1;32m     <a href='vscode-notebook-cell://wsl%2Bubuntu/home/jishnus/vscode/CSP-tri1/_notebooks/2022-12-12-Simulations.ipynb#X13sdnNjb2RlLXJlbW90ZQ%3D%3D?line=19'>20</a>\u001b[0m     y \u001b[39m=\u001b[39m y\u001b[39m-\u001b[39m\u001b[39m1\u001b[39m\n\u001b[0;32m---> <a href='vscode-notebook-cell://wsl%2Bubuntu/home/jishnus/vscode/CSP-tri1/_notebooks/2022-12-12-Simulations.ipynb#X13sdnNjb2RlLXJlbW90ZQ%3D%3D?line=20'>21</a>\u001b[0m \u001b[39mif\u001b[39;00m step \u001b[39m==\u001b[39m \u001b[39m4\u001b[39m:\n\u001b[1;32m     <a href='vscode-notebook-cell://wsl%2Bubuntu/home/jishnus/vscode/CSP-tri1/_notebooks/2022-12-12-Simulations.ipynb#X13sdnNjb2RlLXJlbW90ZQ%3D%3D?line=21'>22</a>\u001b[0m     z \u001b[39m=\u001b[39m z\u001b[39m+\u001b[39m\u001b[39m1\u001b[39m\n\u001b[1;32m     <a href='vscode-notebook-cell://wsl%2Bubuntu/home/jishnus/vscode/CSP-tri1/_notebooks/2022-12-12-Simulations.ipynb#X13sdnNjb2RlLXJlbW90ZQ%3D%3D?line=22'>23</a>\u001b[0m \u001b[39mif\u001b[39;00m step \u001b[39m==\u001b[39m \u001b[39m5\u001b[39m:\n",
      "\u001b[0;31mKeyboardInterrupt\u001b[0m: "
     ]
    }
   ],
   "source": [
    "import random\n",
    "x = 0\n",
    "y = 0\n",
    "z = 0\n",
    "nights = 0\n",
    "turn = 0\n",
    "stopped = 0\n",
    "turns = []\n",
    "\n",
    "while (nights < 100):\n",
    "    #rando movement\n",
    "    step = random.randrange(6)\n",
    "    if step == 0:\n",
    "        x = x+1\n",
    "    if step == 1:\n",
    "        x = x-1\n",
    "    if step == 2:\n",
    "        y = y+1\n",
    "    if step == 3:\n",
    "        y = y-1\n",
    "    if step == 4:\n",
    "        z = z+1\n",
    "    if step == 5:\n",
    "        z = z-1\n",
    "    #Turn counter\n",
    "    turn = turn + 1\n",
    "    #Goal check\n",
    "    if x == 0 and y == 0 and z == 0:\n",
    "        nights = nights + 1\n",
    "        print(\"The Bird Has Made It Home After \", turn, \"Turns\")\n",
    "        turns.append(turn)\n",
    "        turn = 0\n",
    "    if turn/1000 % 1000 == 0 and x + y + z != 0:\n",
    "        print(\"(\", x,y, \") \",\"| \", z)\n",
    "    #Too long Stoper\n",
    "    if (turn > 10000000):\n",
    "        stopped = stopped + 1\n",
    "        turn = 0\n",
    "        x = 0\n",
    "        y = 0\n",
    "        z = 0\n",
    "        nights = nights + 1\n",
    "        print(\"Caped\")\n",
    "\n",
    "average = sum(turns) / len(turns)\n",
    "print(\"Avaerage\", average,\"Ones that when't too long \", stopped)"
   ]
  },
  {
   "attachments": {},
   "cell_type": "markdown",
   "metadata": {},
   "source": [
    "# Simulations in the wild\n",
    "\n",
    "Simulations are used extremely frequently in real life applications. One of the most common examples of simulations are video games. A games physics engine can accurately simulate objects colliding \n",
    "\n",
    "Another example is Blender, the software used in 3d animations class, here at Del Norte. Blender is made up of many small simulations, but one big one it uses is simulating the way light bounces off of and interacts with objects. "
   ]
  },
  {
   "attachments": {},
   "cell_type": "markdown",
   "metadata": {},
   "source": [
    "# HW !!!\n",
    "\n",
    "Create a simulation. It can be anything, just has to simulate something.\n",
    "\n",
    "Some ideas:\n",
    "\n",
    "- Two objects colliding\n",
    "- Gravity on other planets\n",
    "\n",
    "AND\n",
    "\n",
    "Find an example of a simulation in a software/game you use, screenshot, and explain how it is a simulation"
   ]
  }
 ],
 "metadata": {
  "kernelspec": {
   "display_name": "base",
   "language": "python",
   "name": "python3"
  },
  "language_info": {
   "codemirror_mode": {
    "name": "ipython",
    "version": 3
   },
   "file_extension": ".py",
   "mimetype": "text/x-python",
   "name": "python",
   "nbconvert_exporter": "python",
   "pygments_lexer": "ipython3",
   "version": "3.9.12 (main, Apr  5 2022, 06:56:58) \n[GCC 7.5.0]"
  },
  "orig_nbformat": 4,
  "vscode": {
   "interpreter": {
    "hash": "1bd6b0a8902b2cd371025e85dd17b7c0a0940e3588e8793f8be8034f5ae02310"
   }
  }
 },
 "nbformat": 4,
 "nbformat_minor": 2
}
