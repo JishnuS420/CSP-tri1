{
 "cells": [
  {
   "cell_type": "code",
   "execution_count": null,
   "metadata": {},
   "outputs": [],
   "source": []
  }
 ],
 "metadata": {
  "kernelspec": {
   "display_name": "Python 3.9.12 ('base')",
   "language": "python",
   "name": "python3"
  },
  "language_info": {
   "name": "python",
   "version": "3.9.12"
  },
  "orig_nbformat": 4,
  "vscode": {
   "interpreter": {
    "hash": "1bd6b0a8902b2cd371025e85dd17b7c0a0940e3588e8793f8be8034f5ae02310"
   }
  }
 },
 "nbformat": 4,
 "nbformat_minor": 2
}
