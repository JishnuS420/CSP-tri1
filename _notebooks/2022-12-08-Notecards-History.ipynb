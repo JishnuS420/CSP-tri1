{
 "cells": [
  {
   "cell_type": "code",
   "execution_count": 2,
   "metadata": {},
   "outputs": [
    {
     "name": "stdout",
     "output_type": "stream",
     "text": [
      "Enter the term for your notecard (or enter 'quit' to stop):\n",
      "Enter the definition for your notecard:\n",
      "Enter the term for your notecard (or enter 'quit' to stop):\n",
      "Enter the definition for your notecard:\n",
      "Enter the term for your notecard (or enter 'quit' to stop):\n",
      "Term: New Deal\n",
      "Definition: FDR's programs that were used to help those without jobs to get jobs again and build up the infastructure again with public works like sewers systemss\n",
      "Term: Black Tuesday\n",
      "Definition: Stock Market Crash in 1929, October 29\n"
     ]
    }
   ],
   "source": [
    "notecards = []\n",
    "\n",
    "while True:\n",
    "    term = input()\n",
    "    if term == 'quit':\n",
    "        break\n",
    "\n",
    "    definition = input()\n",
    "    \n",
    "    notecards.append((term, definition))\n",
    "\n",
    "for card in notecards:\n",
    "    print(\"Term:\", card[0])\n",
    "    print(\"Definition:\", card[1])"
   ]
  }
 ],
 "metadata": {
  "kernelspec": {
   "display_name": "base",
   "language": "python",
   "name": "python3"
  },
  "language_info": {
   "codemirror_mode": {
    "name": "ipython",
    "version": 3
   },
   "file_extension": ".py",
   "mimetype": "text/x-python",
   "name": "python",
   "nbconvert_exporter": "python",
   "pygments_lexer": "ipython3",
   "version": "3.9.12 (main, Apr  5 2022, 06:56:58) \n[GCC 7.5.0]"
  },
  "orig_nbformat": 4,
  "vscode": {
   "interpreter": {
    "hash": "1bd6b0a8902b2cd371025e85dd17b7c0a0940e3588e8793f8be8034f5ae02310"
   }
  }
 },
 "nbformat": 4,
 "nbformat_minor": 2
}
