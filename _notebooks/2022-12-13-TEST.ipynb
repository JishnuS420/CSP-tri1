{
 "cells": [
  {
   "cell_type": "code",
   "execution_count": null,
   "metadata": {},
   "outputs": [],
   "source": [
    "import time\n",
    "\n",
    "def linear_search(lst, x):\n",
    "  start_time = time.time() # starts the timer (seconds)\n",
    "\n",
    "  for i in range(len(lst)): # loops through the entire list \n",
    "    if lst[i] == x: # until the x value we are looking for is found\n",
    "      end_time = time.time() # stops the timer\n",
    "      total_time = (end_time - start_time) / 1000 # calculates the total time taken and converts seconds to microseconds\n",
    "      print(\"Found element after {} loops in {} microseconds\".format(i+1, total_time)) # Prints the results\n",
    "      return print(\"Your number was found at\", i)\n",
    "  \n",
    "  end_time = time.time() # stops the timer and takes the value\n",
    "  total_time = (end_time - start_time) / 1000000 # calculates the total time taken and converts seconds to microseconds\n",
    "  print(\"Element not found after {} loops in {} microseconds\".format(len(lst), total_time)) # prints the results\n",
    "  return -1\n",
    "\n",
    "\n",
    "lst = list(range(1, 10001))\n",
    "x = 4000\n",
    "linear_search(lst, x)"
   ]
  }
 ],
 "metadata": {
  "language_info": {
   "name": "python"
  },
  "orig_nbformat": 4
 },
 "nbformat": 4,
 "nbformat_minor": 2
}
