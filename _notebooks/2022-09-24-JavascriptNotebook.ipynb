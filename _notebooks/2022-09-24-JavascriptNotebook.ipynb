{
 "cells": [
  {
   "cell_type": "markdown",
   "metadata": {},
   "source": [
    "# Javascript Notebook\n",
    "> Code for holding key information using keys and values\n",
    "\n",
    "- Javascript Notebook \n",
    "- toc: true\n",
    "- comments: true\n",
    "- permalink: /notebook/Java\n",
    "- tags: [Week5Hacks,Jupyter]\n"
   ]
  },
  {
   "cell_type": "code",
   "execution_count": 3,
   "metadata": {},
   "outputs": [
    {
     "name": "stdout",
     "output_type": "stream",
     "text": [
      "HELLLLLLLLLLO WORLD\n"
     ]
    }
   ],
   "source": [
    "console.log(\"HELLLLLLLLLLO WORLD\");"
   ]
  },
  {
   "cell_type": "code",
   "execution_count": 4,
   "metadata": {},
   "outputs": [
    {
     "name": "stdout",
     "output_type": "stream",
     "text": [
      "13\n"
     ]
    }
   ],
   "source": [
    "function sum(a, b) {\n",
    "    return a + b;\n",
    "}\n",
    "\n",
    "console.log(sum(2, 11))"
   ]
  },
  {
   "cell_type": "code",
   "execution_count": 6,
   "metadata": {},
   "outputs": [
    {
     "name": "stdout",
     "output_type": "stream",
     "text": [
      "50\n"
     ]
    }
   ],
   "source": [
    "var x;\n",
    "x = 5;\n",
    "\n",
    "function multiply(x, b) {\n",
    "    return x * b;\n",
    "}\n",
    "\n",
    "console.log(multiply(x, 10));"
   ]
  }
 ],
 "metadata": {
  "kernelspec": {
   "display_name": "JavaScript (Node.js)",
   "language": "javascript",
   "name": "javascript"
  },
  "language_info": {
   "file_extension": ".js",
   "mimetype": "application/javascript",
   "name": "javascript",
   "version": "6.11.2"
  },
  "orig_nbformat": 4,
  "vscode": {
   "interpreter": {
    "hash": "1bd6b0a8902b2cd371025e85dd17b7c0a0940e3588e8793f8be8034f5ae02310"
   }
  }
 },
 "nbformat": 4,
 "nbformat_minor": 2
}
