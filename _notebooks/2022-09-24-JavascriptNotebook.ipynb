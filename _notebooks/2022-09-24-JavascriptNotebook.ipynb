{
 "cells": [
  {
   "cell_type": "markdown",
   "metadata": {},
   "source": [
    "# Javascript Notebook\n",
    "> Experimenting with Javascript\n",
    "\n",
    "- Javascript Notebook \n",
    "- toc: true\n",
    "- comments: true\n",
    "- permalink: /notebook/Java\n",
    "- tags: [Week5Hacks,Jupyter]\n"
   ]
  },
  {
   "cell_type": "code",
   "execution_count": 3,
   "metadata": {},
   "outputs": [
    {
     "name": "stdout",
     "output_type": "stream",
     "text": [
      "HELLLLLLLLLLO WORLD\n"
     ]
    }
   ],
   "source": [
    "console.log(\"HELLLLLLLLLLO WORLD\");"
   ]
  },
  {
   "cell_type": "code",
   "execution_count": 4,
   "metadata": {},
   "outputs": [
    {
     "name": "stdout",
     "output_type": "stream",
     "text": [
      "13\n"
     ]
    }
   ],
   "source": [
    "function sum(a, b) {\n",
    "    return a + b;\n",
    "}\n",
    "\n",
    "console.log(sum(2, 11))"
   ]
  },
  {
   "cell_type": "code",
   "execution_count": 6,
   "metadata": {},
   "outputs": [
    {
     "name": "stdout",
     "output_type": "stream",
     "text": [
      "50\n"
     ]
    }
   ],
   "source": [
    "var x;\n",
    "x = 5;\n",
    "\n",
    "function multiply(x, b) {\n",
    "    return x * b;\n",
    "}\n",
    "\n",
    "console.log(multiply(x, 10));"
   ]
  },
  {
   "cell_type": "code",
   "execution_count": 13,
   "metadata": {},
   "outputs": [
    {
     "ename": "TypeError",
     "evalue": "people._toHtml is not a function",
     "output_type": "error",
     "traceback": [
      "evalmachine.<anonymous>:53",
      "    $$.html(people._toHtml());",
      "                   ^",
      "",
      "TypeError: people._toHtml is not a function",
      "    at evalmachine.<anonymous>:53:20",
      "    at ContextifyScript.Script.runInThisContext (vm.js:25:33)",
      "    at Object.runInThisContext (vm.js:97:38)",
      "    at run ([eval]:1020:15)",
      "    at onRunRequest ([eval]:864:18)",
      "    at onMessage ([eval]:828:13)",
      "    at emitTwo (events.js:106:13)",
      "    at process.emit (events.js:191:7)",
      "    at process.nextTick (internal/child_process.js:758:12)",
      "    at _combinedTickCallback (internal/process/next_tick.js:73:7)"
     ]
    }
   ],
   "source": [
    "function people(DevOps, Backend, Frontend, Scrum){\n",
    "        this.DevOps = DevOps; \n",
    "        this.Backend = Backend;\n",
    "        this.Frontend = Frontend;\n",
    "        this.Scrum = Scrum;\n",
    "    }\n",
    "\n",
    "    var people = [ \n",
    "        new people(\"Luka\", \"Jishnu\", \"Edwin\", \"Emaad\"),\n",
    "    ];\n",
    "\n",
    "    // define a library and build Library objects and json\n",
    "    function library(people){  \n",
    "        // add each book to library\n",
    "        this.people = people;\n",
    "        this.library = [];\n",
    "        this.people.forEach(people => {this.library.push(people);});\n",
    "    }\n",
    "    printpeople = new library(people);\n",
    "\n",
    "    library.prototype._toHtml = function() {\n",
    "    var style = (\n",
    "        \"display:inline-block;\" +\n",
    "        \"border: 2px solid blue;\"\n",
    "    );\n",
    "\n",
    "    var body = \"\";\n",
    "\n",
    "    body += \"<tr>\";\n",
    "    body += \"<th>\" + \"Luka\" + \"</th>\";\n",
    "    body += \"<th>\" + \"Jishnu\" + \"</th>\";\n",
    "    body += \"<th>\" + \"Edwin\" + \"</th>\";\n",
    "    body += \"<th>\" + \"Emaad\" + \"</th>\";\n",
    "    body += \"</tr>\";\n",
    "\n",
    "    for (var row of printpeople.library) {\n",
    "    body += \"<tr>\";\n",
    "    body += \"<td>\" + row.people + \"</td>\";\n",
    "    body += \"<tr>\";\n",
    "    }\n",
    "\n",
    "\n",
    "    // Build and HTML fragment of div, table, table body\n",
    "    return (\n",
    "        \"<div style='\" + style + \"'>\" +\n",
    "            \"<table>\" +\n",
    "                body +\n",
    "            \"</table>\" +\n",
    "        \"</div>\"\n",
    "        );\n",
    "    };\n",
    "    \n",
    "    $$.html(people._toHtml());"
   ]
  }
 ],
 "metadata": {
  "kernelspec": {
   "display_name": "JavaScript (Node.js)",
   "language": "javascript",
   "name": "javascript"
  },
  "language_info": {
   "file_extension": ".js",
   "mimetype": "application/javascript",
   "name": "javascript",
   "version": "6.11.2"
  },
  "orig_nbformat": 4,
  "vscode": {
   "interpreter": {
    "hash": "1bd6b0a8902b2cd371025e85dd17b7c0a0940e3588e8793f8be8034f5ae02310"
   }
  }
 },
 "nbformat": 4,
 "nbformat_minor": 2
}
