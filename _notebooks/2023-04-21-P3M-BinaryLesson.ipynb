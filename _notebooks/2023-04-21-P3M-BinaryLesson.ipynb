{
 "cells": [
  {
   "attachments": {},
   "cell_type": "markdown",
   "metadata": {},
   "source": [
    "# P3-M 4/21 Binary Overview\n",
    "> A series of binary lessons focusssed on math and conversions.\n",
    "- toc: true\n",
    "- comments: true\n",
    "- author: Colin Mills, Aiden Huynh, Toby Leeder, Dash Penning, Ekam Kaire, Ishi Singh, Azeem Khan, Nathan Capule"
   ]
  },
  {
   "attachments": {},
   "cell_type": "markdown",
   "metadata": {},
   "source": [
    "## How to contact us\n",
    "Join the \"coding\" channel on slack! That is the only place where we will be answering questions or sending announcements about lessons. If you have a question please contact us there.\n",
    "#### How to join\n",
    "* Click on \"add channels\" below the list of channels\n",
    "* Click on \"browse channels\"\n",
    "* Search for \"coding\"\n",
    "* Click the green \"Join\" button on the right\n",
    "\n",
    "## Learning Objectives\n",
    "![CollegeBoard Requirements for Binary](https://user-images.githubusercontent.com/111464932/229885445-65ef56d2-f3d4-43da-aa62-8683e8c0a08b.png)\n",
    "\n",
    "### DAT-1.A: Representing Data with Bits\n",
    "\n",
    "#### Basic Information\n",
    "* Bit is short for **binary digit**, and represents a value of either 0 or 1.\n",
    "    - A byte is 8 bits.\n",
    "* Sequences of bits are used to represent different things.\n",
    "    - Representing data with sequences of bits is called **abstraction**\n",
    "\n",
    "#### Practice Questions:\n",
    "1. How many bits are in 3 bytes?\n",
    "3 * 8 = 24 bits \n",
    "\n",
    "2. What digital information can be represented by bits? \n",
    "\n",
    "Any digital information can be represented as long as it is encoded in the binary form.\n",
    "\n",
    "3. Are bits an analog or digital form of storing data? What is the difference between the two?\n",
    "\n",
    "Bits are digital data what this means is that that its only got two states 1 or 0 however analog can be a wide range of values or example, something like the the arrow keys on a controller would be digital but something like a joystick on the controller would be more like an analog type of data.\n",
    "\n",
    "\n",
    "#### Examples\n",
    "* Boolean variables (true or false) are the easiest way to visualize binary.\n",
    "    - 0 = False\n",
    "    - 1 = True\n"
   ]
  },
  {
   "cell_type": "code",
   "execution_count": 6,
   "metadata": {},
   "outputs": [
    {
     "name": "stdout",
     "output_type": "stream",
     "text": [
      "binary is awesome\n",
      "binary is cool\n",
      "binary is awesome\n",
      "binary is awesome\n",
      "binary is awesome\n",
      "binary is awesome\n",
      "binary is cool\n",
      "binary is cool\n",
      "binary is cool\n",
      "binary is awesome\n"
     ]
    }
   ],
   "source": [
    "import random\n",
    "\n",
    "def example(runs):\n",
    "    # Repeat code for the amount of runs given\n",
    "    while runs > 0:\n",
    "        # Assigns variable boolean to either True or False based on random binary number 0 or 1.\n",
    "        boolean = False if random.randint(0, 1) == 0 else True \n",
    "\n",
    "        # If the number was 1 (True), it prints \"awesome.\"\n",
    "        if boolean:\n",
    "            print(\"binary is awesome\")\n",
    "            \n",
    "        # If the number was 2 (False), it prints \"cool.\"\n",
    "        else:\n",
    "            print(\"binary is cool\")\n",
    "            \n",
    "        runs -= 1\n",
    "     \n",
    "# Change the parameter to how many times to run the function.   \n",
    "example(10)"
   ]
  },
  {
   "attachments": {},
   "cell_type": "markdown",
   "metadata": {},
   "source": [
    "### DAT-1.B: The Consequences of Using Bits to Represent Data\n",
    "\n",
    "#### Basic Information\n",
    "* Integers are represented by a fixed number of bits, this limits the range of integer values. This limitation can result in **overflow** or other errors.\n",
    "* Other programming languages allow for abstraction only limited by the computers memory.\n",
    "* Fixed number of bits are used to represent real numbers/limits\n",
    "\n",
    "#### Practice Questions:\n",
    "1. What is the largest number can be represented by 5 bits?\n",
    "\n",
    "2^n-1 = (2^5) - 1 = 31\n",
    "\n",
    "2. One programming language can only use 16 bits to represent non-negative numbers, while a second language uses 56 bits to represent numbers. How many times as many unique numbers can be represented by the second language?\n",
    "\n",
    "2^50/2^16 = 2^40 is the amount of unique numbers that can be represented by the second language \n",
    "\n",
    "3. 5 bits are used to represent both positive and negative numbers, what is the largest number that can be represented by these bits? (*hint: different than question 1*)\n",
    "\n",
    "1 bit is used to represent positive or negative so \n",
    "2^4 -1 = 15 for the largest number\n",
    "and \n",
    "-2^4 =  -16 \n",
    "\n",
    "#### Examples"
   ]
  },
  {
   "cell_type": "code",
   "execution_count": 2,
   "metadata": {},
   "outputs": [
    {
     "name": "stdout",
     "output_type": "stream",
     "text": [
      "5^2 = 25.0\n"
     ]
    }
   ],
   "source": [
    "import math\n",
    "\n",
    "def exponent(base, power):\n",
    "    # Print the operation performed, turning the parameters into strings to properly concatenate with the symbols \"^\" and \"=\".\n",
    "    print(str(base) + \"^\" + str(power) + \" = \" + str(math.pow(base, power)))\n",
    "\n",
    "# How can function become a problem? (Hint: what happens if you set both base and power equal to high numbers?)\n",
    "exponent(5, 2)\n"
   ]
  },
  {
   "attachments": {},
   "cell_type": "markdown",
   "metadata": {},
   "source": [
    "### DAT-1.C: Binary Math\n",
    "\n",
    "#### Basic Information\n",
    "* Binary is Base 2, meaning each digit can only represent values of 0 and 1.\n",
    "* Decimal is Base 10, meaning eacht digit can represent values from 0 to 9.\n",
    "* Conversion between sequences of binary to decimal depend on how many binary numbers there are, their values and their positions.\n",
    "\n",
    "#### Practice Questions:\n",
    "1. What values can each digit of a Base 5 system represent?\n",
    "\n",
    "They can represent 0, 1, 2, 3, and/or 4\n",
    "\n",
    "2. What base is Hexadecimal? What range of values can each digit of Hexadecimal represent?\n",
    "\n",
    "The Base for hexadecimal is 16 so it can represent 16 values: 0, 1, 2, 3, 4, 5, 6, 7, 8, 9, A, B, C, D, E, and/or F\n",
    "\n",
    "3. When using a base above 10, letters can be used to represent numbers past 9. These letters start from A and continue onwards. For example, the decimal number 10 is represented by the letter A in Hexadecimal. What letter would be used to represent the Base 10 number 23 in a Base 30 system? What about in a Base 50 system?\n",
    "\n",
    "You do the remainder of 23 by 30 and you would get 23 and so the number 23 in base30 is H and we do the same for the base 50\n",
    "You do the remainder of 23 by 50 which is 23 and would be X\n",
    "\n",
    "#### Examples\n",
    "* Using 6 bits, we can represent 64 numbers, from 0 to 63, as 2^6 = 64.\n",
    "* The numbers in a sequence of binary go from right to left, increasing by powers of two from 0 to the total amount of bits. The whole number represented is the sum of these bits. For example:\n",
    "    1. 111111\n",
    "    2. 2^5 + 2^4 + 2^3 + 2^2 + 2^1 + 2^0\n",
    "    3. 32 + 16 + 8 + 4 + 2 + 1\n",
    "    4. 63\n",
    "* **Fill in the blanks** (convert to decimal) \n",
    "    1. 001010 = 2 + 8 = 10\n",
    "    2. 11100010 = 2 + 32 + 64 + 128 = 226\n",
    "    3. 10 = 2\n",
    "\n",
    "* **Fill in the blanks** (convert to binary) \n",
    "    1. 12 = 1100\n",
    "    2. 35 = 100011\n",
    "    3. 256 = 10000000"
   ]
  },
  {
   "attachments": {},
   "cell_type": "markdown",
   "metadata": {},
   "source": [
    "## Hacks & Grading (Due SUNDAY NIGHT 4/23)\n",
    "* Complete all of the popcorn hacks (Fill in the blanks + run code cells and interact + Answer ALL questions) [0.3 or nothing]\n",
    "* Create a program to conduct basic mathematical operations with binary sequences (addition, subtraction, multiplication, division) [0.6 or nothing]\n",
    "    - For bonus, program must be able to conduct mathematical operations on binary sequences of varying bits (for example: 101 + 1001 would return decimal 14.) [0.1 or nothing]"
   ]
  },
  {
   "cell_type": "code",
   "execution_count": 4,
   "metadata": {},
   "outputs": [
    {
     "name": "stdout",
     "output_type": "stream",
     "text": [
      "\n",
      "Input the first binary number\n"
     ]
    },
    {
     "ename": "TypeError",
     "evalue": "input() takes 0 positional arguments but 1 was given",
     "output_type": "error",
     "traceback": [
      "\u001b[0;31m---------------------------------------------------------------------------\u001b[0m",
      "\u001b[0;31mTypeError\u001b[0m                                 Traceback (most recent call last)",
      "\u001b[1;32m/home/jishnus/vscode/CSP-tri1/_notebooks/2023-04-21-P3M-BinaryLesson.ipynb Cell 8\u001b[0m in \u001b[0;36m<cell line: 56>\u001b[0;34m()\u001b[0m\n\u001b[1;32m     <a href='vscode-notebook-cell://wsl%2Bubuntu/home/jishnus/vscode/CSP-tri1/_notebooks/2023-04-21-P3M-BinaryLesson.ipynb#X10sdnNjb2RlLXJlbW90ZQ%3D%3D?line=52'>53</a>\u001b[0m     \u001b[39melse\u001b[39;00m:\n\u001b[1;32m     <a href='vscode-notebook-cell://wsl%2Bubuntu/home/jishnus/vscode/CSP-tri1/_notebooks/2023-04-21-P3M-BinaryLesson.ipynb#X10sdnNjb2RlLXJlbW90ZQ%3D%3D?line=53'>54</a>\u001b[0m         \u001b[39mreturn\u001b[39;00m \u001b[39m\"\u001b[39m\u001b[39mSee you later!\u001b[39m\u001b[39m\"\u001b[39m\n\u001b[0;32m---> <a href='vscode-notebook-cell://wsl%2Bubuntu/home/jishnus/vscode/CSP-tri1/_notebooks/2023-04-21-P3M-BinaryLesson.ipynb#X10sdnNjb2RlLXJlbW90ZQ%3D%3D?line=55'>56</a>\u001b[0m \u001b[39minput\u001b[39;49m()\n",
      "\u001b[1;32m/home/jishnus/vscode/CSP-tri1/_notebooks/2023-04-21-P3M-BinaryLesson.ipynb Cell 8\u001b[0m in \u001b[0;36minput\u001b[0;34m()\u001b[0m\n\u001b[1;32m     <a href='vscode-notebook-cell://wsl%2Bubuntu/home/jishnus/vscode/CSP-tri1/_notebooks/2023-04-21-P3M-BinaryLesson.ipynb#X10sdnNjb2RlLXJlbW90ZQ%3D%3D?line=35'>36</a>\u001b[0m \u001b[39mif\u001b[39;00m cont \u001b[39m==\u001b[39m \u001b[39m'\u001b[39m\u001b[39my\u001b[39m\u001b[39m'\u001b[39m:\n\u001b[1;32m     <a href='vscode-notebook-cell://wsl%2Bubuntu/home/jishnus/vscode/CSP-tri1/_notebooks/2023-04-21-P3M-BinaryLesson.ipynb#X10sdnNjb2RlLXJlbW90ZQ%3D%3D?line=36'>37</a>\u001b[0m     \u001b[39mprint\u001b[39m(\u001b[39m\"\u001b[39m\u001b[39m\\n\u001b[39;00m\u001b[39mInput the first binary number\u001b[39m\u001b[39m\"\u001b[39m)\n\u001b[0;32m---> <a href='vscode-notebook-cell://wsl%2Bubuntu/home/jishnus/vscode/CSP-tri1/_notebooks/2023-04-21-P3M-BinaryLesson.ipynb#X10sdnNjb2RlLXJlbW90ZQ%3D%3D?line=37'>38</a>\u001b[0m     x \u001b[39m=\u001b[39m \u001b[39minput\u001b[39;49m(\u001b[39m\"\u001b[39;49m\u001b[39mInput the first binary number\u001b[39;49m\u001b[39m\"\u001b[39;49m)\n\u001b[1;32m     <a href='vscode-notebook-cell://wsl%2Bubuntu/home/jishnus/vscode/CSP-tri1/_notebooks/2023-04-21-P3M-BinaryLesson.ipynb#X10sdnNjb2RlLXJlbW90ZQ%3D%3D?line=38'>39</a>\u001b[0m     \u001b[39mprint\u001b[39m(\u001b[39m\"\u001b[39m\u001b[39m\\n\u001b[39;00m\u001b[39m\"\u001b[39m \u001b[39m+\u001b[39m x)\n\u001b[1;32m     <a href='vscode-notebook-cell://wsl%2Bubuntu/home/jishnus/vscode/CSP-tri1/_notebooks/2023-04-21-P3M-BinaryLesson.ipynb#X10sdnNjb2RlLXJlbW90ZQ%3D%3D?line=40'>41</a>\u001b[0m     \u001b[39mprint\u001b[39m(\u001b[39m\"\u001b[39m\u001b[39m\\n\u001b[39;00m\u001b[39mInput your second binary number\u001b[39m\u001b[39m\"\u001b[39m)\n",
      "\u001b[0;31mTypeError\u001b[0m: input() takes 0 positional arguments but 1 was given"
     ]
    }
   ],
   "source": [
    "def binary_addition(x, y):\n",
    "    return bin(int(x, 2) + int(y, 2))[2:]\n",
    "    # , 2 turns the first binary value and recognizes it as a binary value\n",
    "    # [2:] gets rid of any non integer values\n",
    "def binary_subtraction(x, y):\n",
    "    return bin(int(x, 2) - int(y, 2))[2:]\n",
    "    # same thing as above but subtracts\n",
    "def binary_multiplication(x, y):\n",
    "    return bin(int(x, 2) * int(y, 2))[2:]\n",
    "    # same thing bur multiplication\n",
    "def binary_division(x, y):\n",
    "    quotient = bin(int(x, 2) // int(y, 2))[2:]\n",
    "    # same thing but divison\n",
    "    remainder = bin(int(x, 2) % int(y, 2))[2:]\n",
    "    # calculates for the remainder\n",
    "    return quotient + \" remainder: \" + remainder\n",
    "\n",
    "\n",
    "def binary_operations(x, y, operator):\n",
    "    try:\n",
    "        assert operator == '+' or operator == '-' or operator == '*' or operator == '/' # makes sure that the inputted operator is true\n",
    "        if operator == '+':\n",
    "            return \"Final Binary Value = \" + binary_addition(x, y)\n",
    "        elif operator == '-':\n",
    "            return \"Final Binary Value = \" + binary_subtraction(x, y)\n",
    "        elif operator == '*':\n",
    "            return \"Final Binary Value = \" + binary_multiplication(x, y)\n",
    "        elif operator == '/':\n",
    "            return \"Final Binary Value = \" + binary_division(x, y)\n",
    "    except:\n",
    "        AssertionError # cleans up any junk operations\n",
    "        print(\"Your selection of operation is not supported\")\n",
    "\n",
    "def input():\n",
    "    cont = 'y'\n",
    "    if cont == 'y':\n",
    "        print(\"\\nInput the first binary number\")\n",
    "        x = input(\"Input the first binary number\")\n",
    "        print(\"\\n\" + x)\n",
    "\n",
    "        print(\"\\nInput your second binary number\")\n",
    "        y = input(\"Input your second binary number\")\n",
    "        print(\"\\n\" + y)\n",
    "\n",
    "        print(\"\\nInput the operation your trying to preform\")\n",
    "        operator = input(\"Input the operation your trying to preform\")\n",
    "        print(\"\\n\" + operator)\n",
    "        \n",
    "        binary_operations(x, y, operator)\n",
    "\n",
    "        print(\"Would you like to continue?\")\n",
    "        cont = input(\"Would you like to continue?\")\n",
    "    else:\n",
    "        return \"See you later!\"\n",
    "\n",
    "input()\n",
    "\n",
    "\n",
    "\n",
    "\n"
   ]
  }
 ],
 "metadata": {
  "kernelspec": {
   "display_name": "base",
   "language": "python",
   "name": "python3"
  },
  "language_info": {
   "codemirror_mode": {
    "name": "ipython",
    "version": 3
   },
   "file_extension": ".py",
   "mimetype": "text/x-python",
   "name": "python",
   "nbconvert_exporter": "python",
   "pygments_lexer": "ipython3",
   "version": "3.9.12"
  },
  "orig_nbformat": 4
 },
 "nbformat": 4,
 "nbformat_minor": 2
}
