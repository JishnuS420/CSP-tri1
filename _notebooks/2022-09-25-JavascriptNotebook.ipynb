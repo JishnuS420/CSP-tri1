{
 "cells": [
  {
   "cell_type": "markdown",
   "metadata": {},
   "source": [
    "# Javascript Notebook\n",
    "> Experimenting with Javascript\n",
    "\n",
    "- Javascript Notebook \n",
    "- toc: true\n",
    "- comments: true\n",
    "- permalink: /notebook/Java\n",
    "- tags: [Week5Hacks,Jupyter,Javascript]\n"
   ]
  },
  {
   "cell_type": "markdown",
   "metadata": {},
   "source": [
    "# Expirementing with JavaScript"
   ]
  },
  {
   "cell_type": "code",
   "execution_count": 35,
   "metadata": {},
   "outputs": [
    {
     "name": "stdout",
     "output_type": "stream",
     "text": [
      "13\n"
     ]
    }
   ],
   "source": [
    "function sum(a, b) {\n",
    "    return a + b;\n",
    "}\n",
    "\n",
    "console.log(sum(2, 11))"
   ]
  },
  {
   "cell_type": "code",
   "execution_count": 36,
   "metadata": {},
   "outputs": [
    {
     "name": "stdout",
     "output_type": "stream",
     "text": [
      "50\n"
     ]
    }
   ],
   "source": [
    "var x;\n",
    "x = 5;\n",
    "\n",
    "function multiply(x, b) {\n",
    "    return x * b;\n",
    "}\n",
    "\n",
    "console.log(multiply(x, 10));"
   ]
  },
  {
   "cell_type": "markdown",
   "metadata": {},
   "source": [
    "# Making a Table and experimenting with logIt"
   ]
  },
  {
   "cell_type": "code",
   "execution_count": 37,
   "metadata": {},
   "outputs": [
    {
     "name": "stdout",
     "output_type": "stream",
     "text": [
      "\n",
      "string ; hello\n",
      "number ; 2022\n",
      "object ; [ 1, 2, 3 ]\n"
     ]
    }
   ],
   "source": [
    "function logItType(output) {\n",
    "    console.log(typeof output, \";\", output);\n",
    "}\n",
    "console.log(\"\")\n",
    "logItType(\"hello\"); \n",
    "logItType(2022);    \n",
    "logItType([1, 2, 3]);"
   ]
  },
  {
   "cell_type": "code",
   "execution_count": 38,
   "metadata": {},
   "outputs": [
    {
     "name": "stdout",
     "output_type": "stream",
     "text": [
      "object ; Person { name: 'Mr M', ghID: 'jm1021', teamrole: 'Grader', role: '' }\n",
      "string ; {\"name\":\"Mr M\",\"ghID\":\"jm1021\",\"teamrole\":\"Grader\",\"role\":\"\"}\n",
      "object ; Person {\n",
      "  name: 'Mr M',\n",
      "  ghID: 'jm1021',\n",
      "  teamrole: 'Grader',\n",
      "  role: 'Teacher' }\n",
      "string ; {\"name\":\"Mr M\",\"ghID\":\"jm1021\",\"teamrole\":\"Grader\",\"role\":\"Teacher\"}\n"
     ]
    }
   ],
   "source": [
    "function Person(name, ghID, teamrole) {\n",
    "    this.name = name;\n",
    "    this.ghID = ghID;\n",
    "    this.teamrole = teamrole;\n",
    "    this.role = \"\";\n",
    "}\n",
    "\n",
    "// define a setter for role in Person data\n",
    "Person.prototype.setRole = function(role) {\n",
    "    this.role = role;\n",
    "}\n",
    "\n",
    "// define a JSON conversion \"method\" associated with Person\n",
    "Person.prototype.toJSON = function() {\n",
    "    const obj = {name: this.name, ghID: this.ghID, teamrole: this.teamrole, role: this.role};\n",
    "    const json = JSON.stringify(obj);\n",
    "    return json;\n",
    "}\n",
    "\n",
    "// make a new Person and assign to variable teacher\n",
    "var teacher = new Person(\"Mr M\", \"jm1021\", \"Grader\");  // object type is easy to work with in JavaScript\n",
    "logItType(teacher);  // before role\n",
    "logItType(teacher.toJSON());  // ok to do this even though role is not yet defined\n",
    "\n",
    "// output of Object and JSON/string associated with Teacher\n",
    "teacher.setRole(\"Teacher\");   // set the role\n",
    "logItType(teacher); \n",
    "logItType(teacher.toJSON());"
   ]
  },
  {
   "cell_type": "code",
   "execution_count": 39,
   "metadata": {},
   "outputs": [
    {
     "name": "stdout",
     "output_type": "stream",
     "text": [
      "object ; [ Person {\n",
      "    name: 'Mr M',\n",
      "    ghID: 'jm1021',\n",
      "    teamrole: 'Grader',\n",
      "    role: 'Teacher' },\n",
      "  Person {\n",
      "    name: 'Luka',\n",
      "    ghID: 'LukaVDB',\n",
      "    teamrole: 'DevOps',\n",
      "    role: 'Student' },\n",
      "  Person {\n",
      "    name: 'Jishnu',\n",
      "    ghID: 'JishnuS420',\n",
      "    teamrole: 'Backend Developer',\n",
      "    role: 'Student' },\n",
      "  Person {\n",
      "    name: 'Edwin',\n",
      "    ghID: 'EdwinKuttappi',\n",
      "    teamrole: 'Frontend Developer',\n",
      "    role: 'Student' },\n",
      "  Person {\n",
      "    name: 'Emaad',\n",
      "    ghID: 'Emaad-Mir',\n",
      "    teamrole: 'Scrum Master',\n",
      "    role: 'Student' } ]\n",
      "string ; Mr M\n",
      "string ; {\"name\":\"Mr M\",\"ghID\":\"jm1021\",\"teamrole\":\"Grader\",\"role\":\"Teacher\"}\n",
      "object ; { name: 'Mr M',\n",
      "  ghID: 'jm1021',\n",
      "  teamrole: 'Grader',\n",
      "  role: 'Teacher' }\n"
     ]
    }
   ],
   "source": [
    "var students = [ \n",
    "    new Person(\"Luka\", \"LukaVDB\", \"DevOps\"),\n",
    "    new Person(\"Jishnu\", \"JishnuS420\", \"Backend Developer\"),\n",
    "    new Person(\"Edwin\", \"EdwinKuttappi\", \"Frontend Developer\"),\n",
    "    new Person(\"Emaad\", \"Emaad-Mir\", \"Scrum Master\"),\n",
    "    \n",
    "];\n",
    "\n",
    "// define a classroom and build Classroom objects and json\n",
    "function Classroom(teacher, students){ // 1 teacher, many student\n",
    "    // start Classroom with Teacher\n",
    "    teacher.setRole(\"Teacher\");\n",
    "    this.teacher = teacher;\n",
    "    this.classroom = [teacher];\n",
    "    // add each Student to Classroom\n",
    "    this.students = students;\n",
    "    this.students.forEach(student => { student.setRole(\"Student\"); this.classroom.push(student); });\n",
    "    // build json/string format of Classroom\n",
    "    this.json = [];\n",
    "    this.classroom.forEach(person => this.json.push(person.toJSON()));\n",
    "}\n",
    "\n",
    "// make a CompSci classroom from formerly defined teacher and students\n",
    "csp = new Classroom(teacher, students);\n",
    "\n",
    "// output of Objects and JSON in CompSci classroom\n",
    "logItType(csp.classroom);  // constructed classroom object\n",
    "logItType(csp.classroom[0].name);  // abstract 1st objects name\n",
    "logItType(csp.json[0]);  // show json conversion of 1st object to string\n",
    "logItType(JSON.parse(csp.json[0]));"
   ]
  },
  {
   "cell_type": "code",
   "execution_count": 41,
   "metadata": {},
   "outputs": [
    {
     "data": {
      "text/html": [
       "<div style='display:inline-block;border: 2px solid blue;'><table><tr><th>Name</th><th>GitHub ID</th><th>Team Role</th><th>Class Role</th></tr><tr><td>Mr M</td><td>jm1021</td><td>Grader</td><td>Teacher</td><tr><tr><td>Luka</td><td>LukaVDB</td><td>DevOps</td><td>Student</td><tr><tr><td>Jishnu</td><td>JishnuS420</td><td>Backend Developer</td><td>Student</td><tr><tr><td>Edwin</td><td>EdwinKuttappi</td><td>Frontend Developer</td><td>Student</td><tr><tr><td>Emaad</td><td>Emaad-Mir</td><td>Scrum Master</td><td>Student</td><tr></table></div>"
      ]
     },
     "execution_count": 41,
     "metadata": {},
     "output_type": "execute_result"
    }
   ],
   "source": [
    "Classroom.prototype._toHtml = function() {\n",
    "    // HTML Style is build using inline structure\n",
    "    var style = (\n",
    "      \"display:inline-block;\" +\n",
    "      \"border: 2px solid blue;\"\n",
    "    );\n",
    "  \n",
    "    // HTML Body of Table is build as a series of concatenations (+=)\n",
    "    var body = \"\";\n",
    "    // Heading for Array Columns\n",
    "    body += \"<tr>\";\n",
    "    body += \"<th>\" + \"Name\" + \"</th>\";\n",
    "    body += \"<th>\" + \"GitHub ID\" + \"</th>\";\n",
    "    body += \"<th>\" + \"Team Role\" + \"</th>\";\n",
    "    body += \"<th>\" + \"Class Role\" + \"</th>\";\n",
    "    body += \"</tr>\";\n",
    "    // Data of Array, iterate through each row of compsci.classroom \n",
    "    for (var row of csp.classroom) {\n",
    "      // tr for each row, a new line\n",
    "      body += \"<tr>\";\n",
    "      // td for each column of data\n",
    "      body += \"<td>\" + row.name + \"</td>\";\n",
    "      body += \"<td>\" + row.ghID + \"</td>\";\n",
    "      body += \"<td>\" + row.teamrole + \"</td>\";\n",
    "      body += \"<td>\" + row.role + \"</td>\";\n",
    "      // tr to end line\n",
    "      body += \"<tr>\";\n",
    "    }\n",
    "  \n",
    "     // Build and HTML fragment of div, table, table body\n",
    "    return (\n",
    "      \"<div style='\" + style + \"'>\" +\n",
    "        \"<table>\" +\n",
    "          body +\n",
    "        \"</table>\" +\n",
    "      \"</div>\"\n",
    "    );\n",
    "  \n",
    "  };\n",
    "  \n",
    "  // IJavaScript HTML processor receive parameter of defined HTML fragment\n",
    "  $$.html(csp._toHtml());"
   ]
  }
 ],
 "metadata": {
  "kernelspec": {
   "display_name": "JavaScript (Node.js)",
   "language": "javascript",
   "name": "javascript"
  },
  "language_info": {
   "file_extension": ".js",
   "mimetype": "application/javascript",
   "name": "javascript",
   "version": "6.11.2"
  },
  "orig_nbformat": 4,
  "vscode": {
   "interpreter": {
    "hash": "1bd6b0a8902b2cd371025e85dd17b7c0a0940e3588e8793f8be8034f5ae02310"
   }
  }
 },
 "nbformat": 4,
 "nbformat_minor": 2
}
