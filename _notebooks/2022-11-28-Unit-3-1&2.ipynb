{
 "cells": [
  {
   "cell_type": "markdown",
   "metadata": {},
   "source": [
    "\n",
    "# What is a variable?\n",
    "- Has 3 parts: Name, value and type\n",
    "- An data abstraction that can hold a value\n",
    "- Make variable specific enough to understand\n",
    "# Types of data\n",
    "- Integer: A number\n",
    "- Text/String: A word \n",
    "- Boolean: Data that can be true or false\n",
    "\n",
    "Examples: \n",
    "\n",
    "String:\n",
    "name = \"table1\"\n",
    "print(name, type(name))\n",
    "\n",
    "Integer:\n",
    "number = 4 \n",
    "print(number, type(number))\n",
    "\n",
    "Boolean:\n",
    "isAbsent = False\n",
    "print(isAbsent, type(isAbsent))\n",
    "\n",
    "# Assignments:\n",
    "- Enable value of a variable to be changed \n",
    "- = : assigns value on right side to lest side \n",
    "- += : adds right side with left side and assigns that value to the left side \n",
    "- -= : subtracts right side with left and then assigns that value to the left\n",
    "- *= : multiplies right side with left and then assigns that value to the left\n",
    "- /= : divides right side with left and then assigns that value to the left\n",
    "- **= : Calculates exponent value using operands and assign value to left side\t\n",
    "\n",
    "# Changing Values:\n",
    "1st Problem Prediction: \n",
    "num1 = 9\n",
    "num2 = 9\n",
    "\n",
    "2/2!\n",
    "\n",
    "2nd Problem Prediction:\n",
    "num1 = 42\n",
    "num2 = 42\n",
    "num3 = 15\n",
    "\n",
    "3/3!\n",
    "\n",
    "3rd Problem Prediction:\n",
    "print(num2)\n",
    "\n",
    "1/1!\n",
    "\n",
    "# Data Abstraction Practice:\n"
   ]
  },
  {
   "cell_type": "code",
   "execution_count": 3,
   "metadata": {},
   "outputs": [
    {
     "name": "stdout",
     "output_type": "stream",
     "text": [
      "green\n",
      "red\n",
      "pink\n",
      "purple\n",
      "blue\n",
      "brown\n"
     ]
    }
   ],
   "source": [
    "colorsList = [\"green\", \"red\", \"pink\", \"purple\", \"blue\", \"brown\"] # creating a index for each thing in the list\n",
    "for i in colorsList: # recalling the indexes \n",
    "    print(i) # prints them "
   ]
  },
  {
   "cell_type": "markdown",
   "metadata": {},
   "source": [
    "# Homework"
   ]
  },
  {
   "cell_type": "code",
   "execution_count": 27,
   "metadata": {},
   "outputs": [
    {
     "name": "stdout",
     "output_type": "stream",
     "text": [
      "Question 1.) Who is Roanldo playing for in the world cup?\n",
      "(a) Portugal\n",
      "(b) Argentina\n",
      "\n",
      "a\n",
      "\n",
      "Question 2.) What is 2+6\n",
      "(a) 8\n",
      "(b) 26\n",
      "\n",
      "a\n",
      "\n",
      "Question 3.) What is the color of the sky\n",
      "(a) green\n",
      "(b) blue\n",
      "\n",
      "b\n",
      "\n",
      "Question 4.) Who teaches this class?\n",
      "(a) Mr.Mortensen\n",
      "(b) Mr.Yeung\n",
      "\n",
      "a\n",
      "\n",
      "you got 4 out of 4\n"
     ]
    }
   ],
   "source": [
    "class Question: \n",
    "    def __init__(self, prompt, answer):\n",
    "        self.prompt = prompt\n",
    "        self.answer = answer\n",
    "        \n",
    "quesList = [\n",
    "    \"Question 1.) Who is Roanldo playing for in the world cup?\\n(a) Portugal\\n(b) Argentina\\n\",\n",
    "    \"Question 2.) What is 2+6\\n(a) 8\\n(b) 26\\n\",\n",
    "    \"Question 3.) What is the color of the sky\\n(a) green\\n(b) blue\\n\",\n",
    "    \"Question 4.) Who teaches this class?\\n(a) Mr.Mortensen\\n(b) Mr.Yeung\\n\"\n",
    "]\n",
    "\n",
    "questions = [\n",
    "    Question(quesList[0], \"a\"),\n",
    "    Question(quesList[1], \"a\"),\n",
    "    Question(quesList[2], \"b\"),\n",
    "    Question(quesList[3], \"a\"),\n",
    "]\n",
    "\n",
    "def quiz(questions):\n",
    "     score = 0\n",
    "     for question in questions:\n",
    "        print(question.prompt)\n",
    "        answer = input(question.prompt)\n",
    "        print(answer +\"\\n\")\n",
    "        if answer == question.answer:\n",
    "            score += 1\n",
    "     print(\"you got\", score, \"out of\", len(questions))\n",
    "\n",
    "quiz(questions)\n",
    "    "
   ]
  }
 ],
 "metadata": {
  "kernelspec": {
   "display_name": "Python 3.9.12 ('base')",
   "language": "python",
   "name": "python3"
  },
  "language_info": {
   "codemirror_mode": {
    "name": "ipython",
    "version": 3
   },
   "file_extension": ".py",
   "mimetype": "text/x-python",
   "name": "python",
   "nbconvert_exporter": "python",
   "pygments_lexer": "ipython3",
   "version": "3.9.12"
  },
  "orig_nbformat": 4,
  "vscode": {
   "interpreter": {
    "hash": "1bd6b0a8902b2cd371025e85dd17b7c0a0940e3588e8793f8be8034f5ae02310"
   }
  }
 },
 "nbformat": 4,
 "nbformat_minor": 2
}
