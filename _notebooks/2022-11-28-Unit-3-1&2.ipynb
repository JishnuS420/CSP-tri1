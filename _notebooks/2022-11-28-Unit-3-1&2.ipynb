{
 "cells": [
  {
   "cell_type": "markdown",
   "metadata": {},
   "source": [
    "\n",
    "# What is a variable?\n",
    "- Has 3 parts: Name, value and type\n",
    "- An data abstraction that can hold a value\n",
    "- Make variable specific enough to understand\n",
    "# Types of data\n",
    "- Integer: A number\n",
    "- Text/String: A word \n",
    "- Boolean: Data that can be true or false\n",
    "\n",
    "Examples: \n",
    "\n",
    "String:\n",
    "name = \"table1\"\n",
    "print(name, type(name))\n",
    "\n",
    "Integer:\n",
    "number = 4 \n",
    "print(number, type(number))\n",
    "\n",
    "Boolean:\n",
    "isAbsent = False\n",
    "print(isAbsent, type(isAbsent))\n",
    "\n",
    "# Assignments:\n",
    "- Enable value of a variable to be changed \n",
    "- = : \n",
    "\n",
    "# Changing Values:\n",
    "1st Problem Prediction: \n",
    "num1 = 9\n",
    "num2 = 9\n",
    "\n",
    "2/2!\n",
    "\n",
    "2nd Problem Prediction:\n",
    "num1 = 42\n",
    "num2 = 42\n",
    "num3 = 15\n",
    "\n",
    "3/3!\n",
    "\n",
    "3rd Problem Prediction:\n",
    "\n",
    "\n",
    "# Data Abstraction Practice:\n"
   ]
  },
  {
   "cell_type": "code",
   "execution_count": 3,
   "metadata": {},
   "outputs": [
    {
     "name": "stdout",
     "output_type": "stream",
     "text": [
      "green\n",
      "red\n",
      "pink\n",
      "purple\n",
      "blue\n",
      "brown\n"
     ]
    }
   ],
   "source": [
    "colorsList = [\"green\", \"red\", \"pink\", \"purple\", \"blue\", \"brown\"] # creating a index for each thing in the list\n",
    "for i in colorsList: # recalling the indexes \n",
    "    print(i) # prints them "
   ]
  },
  {
   "cell_type": "markdown",
   "metadata": {},
   "source": [
    "# Homework"
   ]
  },
  {
   "cell_type": "code",
   "execution_count": 2,
   "metadata": {},
   "outputs": [],
   "source": [
    "quesCount = 0\n",
    "Qlist = [\"What is Max's First Name?\", \"What is Evan's First Name?\", \"What is the color of the sky?\", \"Who is the best football player?\"]"
   ]
  }
 ],
 "metadata": {
  "kernelspec": {
   "display_name": "Python 3.9.12 ('base')",
   "language": "python",
   "name": "python3"
  },
  "language_info": {
   "codemirror_mode": {
    "name": "ipython",
    "version": 3
   },
   "file_extension": ".py",
   "mimetype": "text/x-python",
   "name": "python",
   "nbconvert_exporter": "python",
   "pygments_lexer": "ipython3",
   "version": "3.9.12"
  },
  "orig_nbformat": 4,
  "vscode": {
   "interpreter": {
    "hash": "1bd6b0a8902b2cd371025e85dd17b7c0a0940e3588e8793f8be8034f5ae02310"
   }
  }
 },
 "nbformat": 4,
 "nbformat_minor": 2
}
