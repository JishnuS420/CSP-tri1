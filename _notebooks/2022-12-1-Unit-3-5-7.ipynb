{
 "cells": [
  {
   "cell_type": "markdown",
   "metadata": {},
   "source": [
    "# Unit 3.5, 3.6, and 3.7 Notes and Homework\n",
    "\n",
    "- title: Teaching Plan - Booleans and Conditionals\n",
    "- toc: false\n",
    "- badges: false\n",
    "- type: [collegeboard]"
   ]
  },
  {
   "cell_type": "markdown",
   "metadata": {},
   "source": [
    "# What is a Boolean?\n",
    "- Data type that comes out with either true or false\n",
    "# Binary vs. Boolean\n",
    "- Similarities: both use only two ciphers\n",
    "- Differences: Boolean can only be one bit so, 0 or 1, Binary can be many bits."
   ]
  },
  {
   "cell_type": "code",
   "execution_count": 1,
   "metadata": {
    "vscode": {
     "languageId": "javascript"
    }
   },
   "outputs": [
    {
     "name": "stdout",
     "output_type": "stream",
     "text": [
      "77.0\n"
     ]
    }
   ],
   "source": [
    "grade1 = 90\n",
    "grade2 = 65\n",
    "grade3 = 60\n",
    "grade4 = 75\n",
    "grade5 = 95\n",
    "print((grade1 + grade2 + grade3 + grade4 + grade5)/5)"
   ]
  },
  {
   "cell_type": "markdown",
   "metadata": {},
   "source": [
    "# Using Logical Operators!"
   ]
  },
  {
   "cell_type": "code",
   "execution_count": 5,
   "metadata": {
    "vscode": {
     "languageId": "javascript"
    }
   },
   "outputs": [
    {
     "name": "stdout",
     "output_type": "stream",
     "text": [
      "1 > 2 or 5 < 12: True\n",
      "7 > 8: True\n",
      "10 > 20: False\n"
     ]
    }
   ],
   "source": [
    "print(\"1 > 2 or 5 < 12:\", 1 > 2 or 5 < 12)\n",
    "# Output TRUE  using OR ^\n",
    "\n",
    "# Output FALSE using NOT\n",
    "print(\"7 > 8:\", not 7 > 8)\n",
    "\n",
    "# Output FALSE using AND\n",
    "print(\"10 > 20:\", 10 > 20 and False)"
   ]
  },
  {
   "cell_type": "markdown",
   "metadata": {},
   "source": [
    "# Conditionals\n",
    "- Selection: Evaluates true or false\n",
    "- Algorithm: A finite set of instructions to complete a task\n",
    "- Usually if statements\n",
    "- Can also be if else blocks"
   ]
  },
  {
   "cell_type": "code",
   "execution_count": 15,
   "metadata": {
    "vscode": {
     "languageId": "javascript"
    }
   },
   "outputs": [
    {
     "name": "stdout",
     "output_type": "stream",
     "text": [
      "x is greater than y\n"
     ]
    }
   ],
   "source": [
    "x = 20\n",
    "y = 10\n",
    "if x > y:\n",
    "    print(\"x is greater than y\")"
   ]
  },
  {
   "cell_type": "code",
   "execution_count": 17,
   "metadata": {
    "vscode": {
     "languageId": "javascript"
    }
   },
   "outputs": [
    {
     "name": "stdout",
     "output_type": "stream",
     "text": [
      "x is not greater than y\n"
     ]
    }
   ],
   "source": [
    "x = 0\n",
    "y = 10\n",
    "if x > y:\n",
    "    print(\"x is greater than y\")\n",
    "else:\n",
    "    print(\"x is not greater than y\")"
   ]
  },
  {
   "cell_type": "code",
   "execution_count": 22,
   "metadata": {
    "vscode": {
     "languageId": "javascript"
    }
   },
   "outputs": [
    {
     "name": "stdout",
     "output_type": "stream",
     "text": [
      "200\n"
     ]
    }
   ],
   "source": [
    "# Calculate the total sum of two numbers, if it is equal to 200, print 200, if otherwise, print the sum.\n",
    "num1 = 100\n",
    "num2 = 100\n",
    "sum = num1 + num2\n",
    "if sum == 200:\n",
    "    print(\"200\")\n",
    "else:\n",
    "    print(sum)"
   ]
  },
  {
   "cell_type": "code",
   "execution_count": 6,
   "metadata": {
    "vscode": {
     "languageId": "javascript"
    }
   },
   "outputs": [
    {
     "name": "stdout",
     "output_type": "stream",
     "text": [
      "199\n"
     ]
    }
   ],
   "source": [
    "# Calculate the total sum of two numbers, if it is equal to 200, print 200, if otherwise, print the sum.\n",
    "num1 = 99\n",
    "num2 = 100\n",
    "sum = num1 + num2\n",
    "if sum == 200:\n",
    "    print(\"200\")\n",
    "else:\n",
    "    print(sum)"
   ]
  },
  {
   "cell_type": "markdown",
   "metadata": {},
   "source": [
    "# Nested Conditionals \n",
    "- Consist of conditional statements within other conditional statements\n",
    "- Uses if else inside if else \n",
    "# Analyzing Code Walkthrough\n",
    "- #1: Outcome prediction: 4\n",
    "- #2: Outcome prediction: Please come to retake up to a 90 next week at tutorial!\n",
    "- #3: Outcome prediction: Looks great but lets see if we can cut down on sugar, we don't want diabetes!"
   ]
  },
  {
   "cell_type": "code",
   "execution_count": 2,
   "metadata": {
    "vscode": {
     "languageId": "javascript"
    }
   },
   "outputs": [
    {
     "name": "stdout",
     "output_type": "stream",
     "text": [
      "Looks great but lets see if we can cut down on sugar, we don't want diabetes!\n"
     ]
    }
   ],
   "source": [
    "protein = 25\n",
    "carbs = 36\n",
    "sugar = 11\n",
    "if (carbs >= 55 || protein <= 20 || sugar >= 15)\n",
    "{\n",
    "    console.log(\"Your lunch is too unhealthy, please pick a new one\")\n",
    "}\n",
    "else\n",
    "{\n",
    "    if (carbs < 35 || protein < 25)\n",
    "    {\n",
    "    console.log (\"This lunch is alright but try to add some more carbs or protein\")\n",
    "    }\n",
    "    else \n",
    "    {\n",
    "    if (sugar >= 11)\n",
    "    {\n",
    "    console.log (\"Looks great but lets see if we can cut down on sugar, we don't want diabetes!\")\n",
    "    }\n",
    "    else\n",
    "    {\n",
    "        console.log (\"Amazing, you created a healthy lunch!!!\")\n",
    "    }\n",
    "    }\n",
    "}\n"
   ]
  },
  {
   "cell_type": "code",
   "execution_count": 1,
   "metadata": {
    "vscode": {
     "languageId": "javascript"
    }
   },
   "outputs": [
    {
     "name": "stdout",
     "output_type": "stream",
     "text": [
      "This person's salary is 150k, and they are experienced\n"
     ]
    }
   ],
   "source": [
    "hours = 11\n",
    "\n",
    "if (hours < 8)\n",
    "{\n",
    "    console.log (\"This person is unexperienced, salary is 50k!\")\n",
    "}\n",
    "else\n",
    "{\n",
    "    if (hours < 10)\n",
    "    {\n",
    "    console.log (\"This person's salary is 90k, and they are experienced\")\n",
    "    }\n",
    "    else \n",
    "    {\n",
    "    if (hours >= 10)\n",
    "    {\n",
    "    console.log (\"This person's salary is 150k, and they are experienced\")\n",
    "    }\n",
    "}\n",
    "}\n"
   ]
  },
  {
   "cell_type": "code",
   "execution_count": 2,
   "metadata": {
    "vscode": {
     "languageId": "javascript"
    }
   },
   "outputs": [
    {
     "name": "stdout",
     "output_type": "stream",
     "text": [
      "This person is unexperienced, salary is 50k!\n"
     ]
    }
   ],
   "source": [
    "hours = 6\n",
    "\n",
    "if (hours < 8)\n",
    "{\n",
    "    console.log (\"This person is unexperienced, salary is 50k!\")\n",
    "}\n",
    "else\n",
    "{\n",
    "    if (hours < 10)\n",
    "    {\n",
    "    console.log (\"This person's salary is 90k, and they are experienced\")\n",
    "    }\n",
    "    else \n",
    "    {\n",
    "    if (hours >= 10)\n",
    "    {\n",
    "    console.log (\"This person's salary is 150k, and they are experienced\")\n",
    "    }\n",
    "}\n",
    "}\n"
   ]
  },
  {
   "cell_type": "markdown",
   "metadata": {},
   "source": [
    "# Hacks Assignments:\n",
    "**Conditionals**:\n",
    "\n",
    "- Write a program that fits these conditions using nested conditionals:\n",
    "    - If the product is expired, print \"this product is no good\"\n",
    "    - If the cost is above 50 dollars, and the product isn't expired, print \"this product is too expensive\"\n",
    "    - If the cost is 25 dollars but under 50, and the product isn't expired, print \"this is a regular product\"\n",
    "    - If the cost is under 25 dollars, print \"this is a cheap product\""
   ]
  },
  {
   "cell_type": "code",
   "execution_count": 11,
   "metadata": {},
   "outputs": [
    {
     "name": "stdout",
     "output_type": "stream",
     "text": [
      "This product is expired and is no good. :( \n",
      "Cost: 75 \n",
      "Expired: yes\n"
     ]
    }
   ],
   "source": [
    "cost = input(\"How much does this object cost?\")\n",
    "expired = input(\"Is this product expired or not?\") # y or n\n",
    "\n",
    "if (expired == \"yes\"): \n",
    "    print(\"This product is expired and is no good. :( \"); \n",
    "else: \n",
    "    if (cost > \"50\" and expired == \"no\"):\n",
    "        print(\"This product isn't expired but is too expensive!\")\n",
    "    else:\n",
    "        if (cost < \"25\" and expired == \"no\"):\n",
    "            print(\"This product isn't expired and is a cheap product! :)\")\n",
    "        else: \n",
    "            print(\"This product isn't expired and is a regular product.\")\n",
    "print(\"Cost: \" + cost )\n",
    "print(\"Expired: \" + expired)"
   ]
  },
  {
   "cell_type": "markdown",
   "metadata": {},
   "source": [
    "**Same code, different output**"
   ]
  },
  {
   "cell_type": "code",
   "execution_count": 12,
   "metadata": {},
   "outputs": [
    {
     "name": "stdout",
     "output_type": "stream",
     "text": [
      "This product isn't expired and is a regular product.\n",
      "Cost: 30\n",
      "Expired: no\n"
     ]
    }
   ],
   "source": [
    "cost = input(\"How much does this object cost?\")\n",
    "expired = input(\"Is this product expired or not?\") # y or n\n",
    "\n",
    "if (expired == \"yes\"): \n",
    "    print(\"This product is expired and is no good. :( \"); \n",
    "else: \n",
    "    if (cost > \"50\" and expired == \"no\"):\n",
    "        print(\"This product isn't expired but is too expensive!\")\n",
    "    else:\n",
    "        if (cost < \"25\" and expired == \"no\"):\n",
    "            print(\"This product isn't expired and is a cheap product! :)\")\n",
    "        else: \n",
    "            print(\"This product isn't expired and is a regular product.\")\n",
    "print(\"Cost: \" + cost )\n",
    "print(\"Expired: \" + expired)"
   ]
  },
  {
   "cell_type": "markdown",
   "metadata": {},
   "source": [
    "**Boolean/Conditionals**:\n",
    "- Create a multiple choice quiz that ...\n",
    "    - uses Boolean expressions\n",
    "    - uses Logical operators\n",
    "    - uses Conditional statements\n",
    "    - prompts quiz-taker with multiple options (only one can be right)\n",
    "    - has at least 3 questions\n",
    "- Points will be awarded for creativity, intricacy, and how well Boolean/Binary concepts have been intertwined"
   ]
  },
  {
   "cell_type": "code",
   "execution_count": 19,
   "metadata": {},
   "outputs": [
    {
     "name": "stdout",
     "output_type": "stream",
     "text": [
      "Question 1.) Who is Roanldo playing for in the world cup?\n",
      "(a) Portugal\n",
      "(b) Argentina\n",
      "Your answer: a\n",
      "Question 2.) What is 2+6\n",
      "(a) 8\n",
      "(b) 26\n",
      "Your answer: a\n",
      "Question 3.) What is the color of the sky\n",
      "(a) green\n",
      "(b) blue\n",
      "Your answer: b\n",
      "Question 4.) Who teaches this class?\n",
      "(a) Mr.Mortensen\n",
      "(b) Mr.Yeung\n",
      "Your answer: a\n",
      "Question 5.) Who is the highest payed soccer player?\n",
      "(a) Messi\n",
      "(b) Mbappe\n",
      "(c) Ronaldo\n",
      "Your answer: b\n",
      "Question 6.) What is the tallest building in the world?\n",
      "(a) Effiel Tower\n",
      "(b) CNN Tower\n",
      "(c) Burj Khalifa\n",
      "Your answer: c\n",
      "you got 6 out of 6\n",
      "Wow good job, you got a perfect score! Genius? True\n"
     ]
    }
   ],
   "source": [
    "class Question: \n",
    "    def __init__(self, prompt, answer): # Creating own data type\n",
    "        self.prompt = prompt\n",
    "        self.answer = answer\n",
    "        \n",
    "quesList = [ # list with the question and MC answers\n",
    "    \"Question 1.) Who is Roanldo playing for in the world cup?\\n(a) Portugal\\n(b) Argentina\", \n",
    "    \"Question 2.) What is 2+6\\n(a) 8\\n(b) 26\",\n",
    "    \"Question 3.) What is the color of the sky\\n(a) green\\n(b) blue\",\n",
    "    \"Question 4.) Who teaches this class?\\n(a) Mr.Mortensen\\n(b) Mr.Yeung\",\n",
    "    \"Question 5.) Who is the highest payed soccer player?\\n(a) Messi\\n(b) Mbappe\\n(c) Ronaldo\",\n",
    "    \"Question 6.) What is the tallest building in the world?\\n(a) Effiel Tower\\n(b) CNN Tower\\n(c) Burj Khalifa\"\n",
    "\n",
    "]\n",
    "\n",
    "questions = [  # defining the correct answers and the question associated with that answer using the class from above\n",
    "    Question(quesList[0], \"a\"),\n",
    "    Question(quesList[1], \"a\"),\n",
    "    Question(quesList[2], \"b\"),\n",
    "    Question(quesList[3], \"a\"),\n",
    "    Question(quesList[4], \"b\"),\n",
    "    Question(quesList[5], \"c\")\n",
    "\n",
    "]\n",
    "\n",
    "def quiz(questions):  # creating a function\n",
    "     score = 0 # setting base score\n",
    "     for question in questions:\n",
    "        print(question.prompt) # prints prompt with the mc \n",
    "        answer = input(question.prompt) # input for the answer\n",
    "        print(\"Your answer: \" + answer)\n",
    "        if answer == question.answer:\n",
    "            score += 1 # adds one to the score if the answer was right, does nothing if not\n",
    "     print(\"you got\", score, \"out of\", len(questions)) # prints the number of questions correct over the number of questions\n",
    "     if score > 3 and score == 6:\n",
    "        print(\"Wow good job, you got a perfect score! Genius?\", 4 < 6)\n",
    "     else: \n",
    "        if score == 5:\n",
    "            print(\"Good job! Aim for a perfect score next! Genius?\", 4 < 5)\n",
    "        else:\n",
    "            if score > 3 or score <= 4:\n",
    "                print(\"Not bad but not good either, maybe try again! Genius?\", 4 < 4)\n",
    "            else: \n",
    "                if score < 3 or score == 3:\n",
    "                    print(\"You failed! Better luck next time! Genius?\", 3 < 0)\n",
    "            \n",
    "    \n",
    "quiz(questions)\n",
    "    "
   ]
  },
  {
   "cell_type": "markdown",
   "metadata": {},
   "source": [
    "**Same Code, Different Output**"
   ]
  },
  {
   "cell_type": "code",
   "execution_count": 25,
   "metadata": {},
   "outputs": [
    {
     "name": "stdout",
     "output_type": "stream",
     "text": [
      "Question 1.) Who is Roanldo playing for in the world cup?\n",
      "(a) Portugal\n",
      "(b) Argentina\n",
      "Your answer: b\n",
      "Question 2.) What is 2+6\n",
      "(a) 8\n",
      "(b) 26\n",
      "Your answer: b\n",
      "Question 3.) What is the color of the sky\n",
      "(a) green\n",
      "(b) blue\n",
      "Your answer: a\n",
      "Question 4.) Who teaches this class?\n",
      "(a) Mr.Mortensen\n",
      "(b) Mr.Yeung\n",
      "Your answer: b\n",
      "Question 5.) Who is the highest payed soccer player?\n",
      "(a) Messi\n",
      "(b) Mbappe\n",
      "(c) Ronaldo\n",
      "Your answer: a\n",
      "Question 6.) What is the tallest building in the world?\n",
      "(a) Effiel Tower\n",
      "(b) CNN Tower\n",
      "(c) Burj Khalifa\n",
      "Your answer: c\n",
      "you got 1 out of 6\n",
      "You failed! Better luck next time! Genius? False\n"
     ]
    }
   ],
   "source": [
    "class Question: \n",
    "    def __init__(self, prompt, answer): # Creating own data type\n",
    "        self.prompt = prompt\n",
    "        self.answer = answer\n",
    "        \n",
    "quesList = [ # list with the question and MC answers\n",
    "    \"Question 1.) Who is Roanldo playing for in the world cup?\\n(a) Portugal\\n(b) Argentina\", \n",
    "    \"Question 2.) What is 2+6\\n(a) 8\\n(b) 26\",\n",
    "    \"Question 3.) What is the color of the sky\\n(a) green\\n(b) blue\",\n",
    "    \"Question 4.) Who teaches this class?\\n(a) Mr.Mortensen\\n(b) Mr.Yeung\",\n",
    "    \"Question 5.) Who is the highest payed soccer player?\\n(a) Messi\\n(b) Mbappe\\n(c) Ronaldo\",\n",
    "    \"Question 6.) What is the tallest building in the world?\\n(a) Effiel Tower\\n(b) CNN Tower\\n(c) Burj Khalifa\"\n",
    "\n",
    "]\n",
    "\n",
    "questions = [  # defining the correct answers and the question associated with that answer using the class from above\n",
    "    Question(quesList[0], \"a\"),\n",
    "    Question(quesList[1], \"a\"),\n",
    "    Question(quesList[2], \"b\"),\n",
    "    Question(quesList[3], \"a\"),\n",
    "    Question(quesList[4], \"b\"),\n",
    "    Question(quesList[5], \"c\")\n",
    "\n",
    "]\n",
    "\n",
    "def quiz(questions):  # creating a function\n",
    "     score = 0 # setting base score\n",
    "     for question in questions:\n",
    "        print(question.prompt) # prints prompt with the mc \n",
    "        answer = input(question.prompt) # input for the answer\n",
    "        print(\"Your answer: \" + answer)\n",
    "        if answer == question.answer:\n",
    "            score += 1 # adds one to the score if the answer was right, does nothing if not\n",
    "     print(\"you got\", score, \"out of\", len(questions)) # prints the number of questions correct over the number of questions\n",
    "     if score > 3 and score == 6:\n",
    "        print(\"Wow good job, you got a perfect score! Genius?\", 4 < 6)\n",
    "     else: \n",
    "        if score == 5:\n",
    "            print(\"Good job! Aim for a perfect score next! Genius?\", 4 < 5)\n",
    "        else:\n",
    "            if score >= 3 and score <= 4:\n",
    "                print(\"Not bad but not good either, maybe try again! Genius?\", 4 < 4)\n",
    "            else: \n",
    "                if score < 3 or score == 0:\n",
    "                    print(\"You failed! Better luck next time! Genius?\", 3 < 0)\n",
    "            \n",
    "    \n",
    "quiz(questions)"
   ]
  }
 ],
 "metadata": {
  "kernelspec": {
   "display_name": "Python 3.9.12 ('base')",
   "language": "python",
   "name": "python3"
  },
  "language_info": {
   "codemirror_mode": {
    "name": "ipython",
    "version": 3
   },
   "file_extension": ".py",
   "mimetype": "text/x-python",
   "name": "python",
   "nbconvert_exporter": "python",
   "pygments_lexer": "ipython3",
   "version": "3.9.12"
  },
  "orig_nbformat": 4,
  "vscode": {
   "interpreter": {
    "hash": "1bd6b0a8902b2cd371025e85dd17b7c0a0940e3588e8793f8be8034f5ae02310"
   }
  }
 },
 "nbformat": 4,
 "nbformat_minor": 2
}
