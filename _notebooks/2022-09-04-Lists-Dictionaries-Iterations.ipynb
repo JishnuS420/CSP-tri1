{
 "cells": [
  {
   "cell_type": "markdown",
   "metadata": {},
   "source": [
    "# Lists, Dictionaries, and Iterations \n",
    "### Code for holding key information using keys and values"
   ]
  },
  {
   "cell_type": "code",
   "execution_count": 3,
   "metadata": {},
   "outputs": [
    {
     "name": "stdout",
     "output_type": "stream",
     "text": [
      "Name: Jishnu <class 'str'>\n",
      "Age: 16 <class 'int'>\n",
      "Grade: 11 <class 'int'>\n",
      "Favorite Color:  Blue <class 'str'>\n",
      "\n",
      "Random Language: C++\n",
      "Random Dream Car: McLaren 750\n",
      "\n",
      "Name:Jishnu Age:16 Grade:11 Languages:['Python', 'HTML', 'CSS', 'C', 'Java', 'JavaScript', 'C', 'R', 'C++', 'Bash'] Favorite Color: Blue\n",
      "\n",
      "Reversed List:\n",
      "GTA, Zelda:BOTW, Pokemon, Minecraft, Fortnite, League of Legends, Apex Legends, Valorant\n",
      "\n",
      "Random Order:\n",
      "League of Legends, Fortnite, GTA, Apex Legends, Valorant, Zelda:BOTW, Pokemon, Minecraft\n"
     ]
    }
   ],
   "source": [
    "import random\n",
    "\n",
    "# variable of type string\n",
    "name = \"Jishnu\"\n",
    "print(\"Name:\", name, type(name))\n",
    "\n",
    "# variable of type integer\n",
    "age = 16\n",
    "print(\"Age:\", age, type(age))\n",
    "\n",
    "# variable of type float\n",
    "grade = 11\n",
    "print(\"Grade:\", grade, type(grade))\n",
    "\n",
    "# another variable of type string\n",
    "favorite_color = \" Blue\"\n",
    "print(\"Favorite Color:\", favorite_color, type(favorite_color))\n",
    "\n",
    "\n",
    "\n",
    "print()\n",
    "\n",
    "# variable of type list (many values in one variable)\n",
    "\n",
    "langs = [\"Python\", \"HTML\", \"CSS\", \"C\", \"Java\", \"JavaScript\", \"C\", \"R\", \"C++\", \"Bash\"]\n",
    "random_lang = random.choice(langs)\n",
    "print(\"Random Language:\", random_lang)\n",
    "\n",
    "dream_cars = [\"Toyota Supra\", \"McLaren 750\", \"Buggati Chiron\", \"Tesla Roadster\"]\n",
    "random_car = random.choice(dream_cars)\n",
    "print(\"Random Dream Car:\", random_car)\n",
    "\n",
    "print()\n",
    "\n",
    "# variable of type dictionary (a group of keys and values)\n",
    "person = {\n",
    "    \"Name\": name,\n",
    "    \"Age\": age,\n",
    "    \"Grade\": grade,\n",
    "    \"Languages\": langs,\n",
    "    \"Favorite Color\": favorite_color\n",
    "}\n",
    "\n",
    "# prints what is in the person dictionary without brackets\n",
    "print(*[str(k) + ':' + str(v) for k,v in person.items()])\n",
    "\n",
    "\n",
    "games = [\"Valorant\", \"Apex Legends\", \"League of Legends\", \"Fortnite\", \"Minecraft\", \"Pokemon\", \"Zelda:BOTW\", \"GTA\"]\n",
    "games.reverse()\n",
    "print('\\nReversed List:'),\n",
    "print(', '.join(games))\n",
    "\n",
    "\n",
    "random.shuffle(games)\n",
    "print('\\nRandom Order:'),\n",
    "print(', '.join(games))"
   ]
  },
  {
   "cell_type": "code",
   "execution_count": 4,
   "metadata": {},
   "outputs": [
    {
     "name": "stdout",
     "output_type": "stream",
     "text": [
      "[{'FirstName': 'Jishnu', 'LastName': 'Singiresu', 'DOB': 'April 20', 'Email': 'broburn123@gmail.com', 'Dream Car': ['McLaren 750'], 'Hobbies': ['Sleeping', 'Playing Games', 'Hanging Out with Friends']}, {'FirstName': 'Luka', 'LastName': 'Van Den Boomen', 'DOB': 'September 19', 'Email': 'unknowndutch@gmail.com', 'Dream Car': ['F1 Racing Car'], 'Hobbies': ['Biking', 'Sleeping', 'Playing Video Games']}]\n"
     ]
    }
   ],
   "source": [
    "People = []\n",
    "\n",
    "# InfoDB is a data structure with expected Keys and Values\n",
    "\n",
    "# Append to List a Dictionary of key/values related to a person and hobbies\n",
    "People.append({\n",
    "    \"FirstName\": \"Jishnu\",\n",
    "    \"LastName\": \"Singiresu\",\n",
    "    \"DOB\": \"April 20\",\n",
    "    \"Email\": \"broburn123@gmail.com\",\n",
    "    \"Dream Car\": [\"McLaren 750\"],\n",
    "    \"Hobbies\": [\"Sleeping\", \"Playing Games\", \"Hanging Out with Friends\"]\n",
    "})\n",
    "\n",
    "# Append to List a 2nd Dictionary of key/values\n",
    "People.append({\n",
    "    \"FirstName\": \"Luka\",\n",
    "    \"LastName\": \"Van Den Boomen\",\n",
    "    \"DOB\": \"September 19\",\n",
    "    \"Email\": \"unknowndutch@gmail.com\",\n",
    "    \"Dream Car\": [\"F1 Racing Car\"],\n",
    "    \"Hobbies\": [\"Biking\",\"Sleeping\", \"Playing Video Games\"]\n",
    "})\n",
    "\n",
    "\n",
    "# Print the data structure\n",
    "print(People)"
   ]
  },
  {
   "cell_type": "code",
   "execution_count": 14,
   "metadata": {},
   "outputs": [
    {
     "name": "stdout",
     "output_type": "stream",
     "text": [
      "Name: Jishnu Singiresu\n",
      "Birthday: April 20\n",
      "Email: broburn123@gmail.com\n",
      "Dream Car: McLaren 750\n",
      "Hobbies: Sleeping, Playing Games, Hanging Out with Friends\n",
      "\n",
      "Name: Luka Van Den Boomen\n",
      "Birthday: September 19\n",
      "Email: unknowndutch@gmail.com\n",
      "Dream Car: F1 Racing Car\n",
      "Hobbies: Biking, Sleeping, Playing Video Games\n",
      "\n"
     ]
    }
   ],
   "source": [
    "def print_data(person): # defines the data being printed\n",
    "    print(\"Name:\", person[\"FirstName\"], person[\"LastName\"]) # Tells the computer to print certain things from the dictionary\n",
    "    print(\"Birthday:\", person[\"DOB\"])\n",
    "    print(\"Email:\", person[\"Email\"])\n",
    "    print(\"Dream Car:\", \", \".join(person[\"Dream Car\"]))\n",
    "    print(\"Hobbies:\", \", \".join(person[\"Hobbies\"]))\n",
    "    print()\n",
    "\n",
    "print_data(People[0]) \n",
    "print_data(People[1])\n"
   ]
  },
  {
   "cell_type": "markdown",
   "metadata": {},
   "source": [
    "Loops"
   ]
  },
  {
   "cell_type": "code",
   "execution_count": 16,
   "metadata": {},
   "outputs": [
    {
     "name": "stdout",
     "output_type": "stream",
     "text": [
      "Name: Jishnu Singiresu\n",
      "Birthday: April 20\n",
      "Email: broburn123@gmail.com\n",
      "Dream Car: McLaren 750\n",
      "Hobbies: Sleeping, Playing Games, Hanging Out with Friends\n",
      "\n",
      "Name: Luka Van Den Boomen\n",
      "Birthday: September 19\n",
      "Email: unknowndutch@gmail.com\n",
      "Dream Car: F1 Racing Car\n",
      "Hobbies: Biking, Sleeping, Playing Video Games\n",
      "\n",
      "Name: Jishnu Singiresu\n",
      "Birthday: April 20\n",
      "Email: broburn123@gmail.com\n",
      "Dream Car: McLaren 750\n",
      "Hobbies: Sleeping, Playing Games, Hanging Out with Friends\n",
      "\n",
      "Name: Luka Van Den Boomen\n",
      "Birthday: September 19\n",
      "Email: unknowndutch@gmail.com\n",
      "Dream Car: F1 Racing Car\n",
      "Hobbies: Biking, Sleeping, Playing Video Games\n",
      "\n"
     ]
    }
   ],
   "source": [
    "def for_loop():             # for every person in the InfoDB, print their data until there is nothing else to print\n",
    "    for person in People:\n",
    "        print_data(person)\n",
    "\n",
    "def for_loop_with_index():      # prints out data depending on the length of the dictionary it comes from\n",
    "    for p in range(len(People)):\n",
    "        print_data(People[p])\n",
    "\n",
    "for_loop()\n",
    "for_loop_with_index()"
   ]
  },
  {
   "cell_type": "markdown",
   "metadata": {},
   "source": [
    "# While Loops"
   ]
  },
  {
   "cell_type": "code",
   "execution_count": 22,
   "metadata": {},
   "outputs": [
    {
     "name": "stdout",
     "output_type": "stream",
     "text": [
      "Name: Jishnu Singiresu\n",
      "Birthday: April 20\n",
      "Email: broburn123@gmail.com\n",
      "Dream Car: McLaren 750\n",
      "Hobbies: Sleeping, Playing Games, Hanging Out with Friends\n",
      "\n",
      "Name: Luka Van Den Boomen\n",
      "Birthday: September 19\n",
      "Email: unknowndutch@gmail.com\n",
      "Dream Car: F1 Racing Car\n",
      "Hobbies: Biking, Sleeping, Playing Video Games\n",
      "\n"
     ]
    }
   ],
   "source": [
    "def while_loop():       # i starts at 0\n",
    "    i = 0\n",
    "    while i < len(People):      # while i is less than the length of the dictionary (2), keep printing the people's data\n",
    "        record = People[i]\n",
    "        print_data(record)\n",
    "        i = i + 1\n",
    "    return\n",
    "\n",
    "while_loop()"
   ]
  },
  {
   "cell_type": "markdown",
   "metadata": {},
   "source": [
    "# Recursive Loops"
   ]
  },
  {
   "cell_type": "code",
   "execution_count": 23,
   "metadata": {},
   "outputs": [
    {
     "name": "stdout",
     "output_type": "stream",
     "text": [
      "Name: Jishnu Singiresu\n",
      "Birthday: April 20\n",
      "Email: broburn123@gmail.com\n",
      "Dream Car: McLaren 750\n",
      "Hobbies: Sleeping, Playing Games, Hanging Out with Friends\n",
      "\n",
      "Name: Luka Van Den Boomen\n",
      "Birthday: September 19\n",
      "Email: unknowndutch@gmail.com\n",
      "Dream Car: F1 Racing Car\n",
      "Hobbies: Biking, Sleeping, Playing Video Games\n",
      "\n"
     ]
    }
   ],
   "source": [
    "def recursive(i): # the recursive loop will keep calling itself until it is greater than or equal to the length of the dictionary\n",
    "    if i >= len(People):\n",
    "        return          # this is where the code will end\n",
    "\n",
    "    print_data(People[i])      # prints the data and keeps printing until it has reached the length of the dictionary\n",
    "    return recursive(i + 1)\n",
    "\n",
    "recursive(0)"
   ]
  }
 ],
 "metadata": {
  "kernelspec": {
   "display_name": "Python 3.8.10 64-bit",
   "language": "python",
   "name": "python3"
  },
  "language_info": {
   "codemirror_mode": {
    "name": "ipython",
    "version": 3
   },
   "file_extension": ".py",
   "mimetype": "text/x-python",
   "name": "python",
   "nbconvert_exporter": "python",
   "pygments_lexer": "ipython3",
   "version": "3.8.10"
  },
  "orig_nbformat": 4,
  "vscode": {
   "interpreter": {
    "hash": "916dbcbb3f70747c44a77c7bcd40155683ae19c65e1c03b4aa3499c5328201f1"
   }
  }
 },
 "nbformat": 4,
 "nbformat_minor": 2
}
