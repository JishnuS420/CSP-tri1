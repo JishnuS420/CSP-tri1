{
 "cells": [
  {
   "attachments": {},
   "cell_type": "markdown",
   "metadata": {},
   "source": [
    "# Unit 3 Sections 12 and 13 lesson\n",
    "> Developing and Writing Procedures Lesson\n",
    "\n",
    "- title: Unit 3 Sections 12-13\n",
    "- toc: true\n",
    "- badges: false\n",
    "- categories: [lessons]"
   ]
  },
  {
   "attachments": {},
   "cell_type": "markdown",
   "metadata": {},
   "source": [
    "## Calling Procedures\n",
    "\n",
    "Slide 1:\n",
    "- A procedure is a named group of programming instructions that may have parameters and return values.\n",
    "- Procedures are referred to by different names, such as method or function, depending on the programing language.\n",
    "- Parameters are input values of a procedure. Arguments specify the values of the parameters when procedure is called.\n",
    "- A procedure call interrupts the sequential execution of statements causing the program to execute the statements within the procedure before continuing. One the last statement in the procedure (or a return statement) has executed, flow or control is returned to the point immediately following where the procedure was called.\n",
    "\n",
    "Slide 2:\n",
    "- When calling procedures, it's important to take notice to whether it returns data, or a block of statements.\n",
    "- If the procedure just returns a block of statements, you call the procedure by referring to the procedure name, and inputting the arguments.\n",
    "- If the procedure returns some sort of data like a boolean or value, then you will assign that value to a variable\n",
    "\n",
    "Slide 3:\n",
    "\n",
    "- Assume the Temperature outside is Fahrenheit. \n",
    "- The procedure convertFahrenheit is intended to convert from Fahrenheit to Celsius.\n",
    "- Convert the following psuedocode to python\n",
    "\n"
   ]
  },
  {
   "cell_type": "code",
   "execution_count": 27,
   "metadata": {},
   "outputs": [
    {
     "name": "stdout",
     "output_type": "stream",
     "text": [
      "86F\n",
      "30.0\n"
     ]
    }
   ],
   "source": [
    "Temp = input(\"What is the temperature outside?\")\n",
    "\n",
    "def convertFahrenheit(temperature):\n",
    "    celsius = temperature - 32\n",
    "    celsius = celsius * 5/9\n",
    "    return celsius\n",
    "\n",
    "print(Temp + \"F\")\n",
    "Temp = (convertFahrenheit(int(Temp)))\n",
    "print(Temp)"
   ]
  },
  {
   "attachments": {},
   "cell_type": "markdown",
   "metadata": {},
   "source": [
    "## Developing Procedures\n",
    "\n",
    "Slide 8: \n",
    "\n",
    "Picking a descriptive name is important in case you revisit the code later on (separate words with capitals)\n",
    "There are 2 different types of procedures- ones that return a value and those that simply execute a block of statements\n",
    "Steps of developing procedure: picking a useful name, thinking of parameters (what data does the procedure need to know), making a flowchart or writing procedure in pseudocode, and actually developing the procedure.\n",
    "\n",
    "Slide 9: \n",
    "\n",
    "In this example, a teacher is writing a program that will replace the grade on a previous quiz if the new grade is better than the previous.\n",
    "\n",
    "- What would be a good name for this procedure?\n",
    "- What parameters do we need for this procedure?\n",
    "- Try writing this procedure out in python based on the given pseudocode\n",
    "\n"
   ]
  },
  {
   "cell_type": "code",
   "execution_count": 26,
   "metadata": {},
   "outputs": [
    {
     "name": "stdout",
     "output_type": "stream",
     "text": [
      "Old replaced quiz grade: \n",
      "30.0\n",
      "2nd Quiz Grade: \n",
      "30.0\n"
     ]
    }
   ],
   "source": [
    "currentPoints = input(\"Input your old quiz points (out of 40)\")\n",
    "quizPoints = input(\"Input your new quiz points (out of 40)\")\n",
    "\n",
    "currentGrade = currentPoints / 40\n",
    "currentGrade = currentGrade * 100\n",
    "\n",
    "quizGrade = quizPoints / 40\n",
    "quizGrade = quizGrade * 100\n",
    "\n",
    "if currentGrade < quizGrade:\n",
    "    currentGrade = quizGrade\n",
    "print(\"Old replaced quiz grade: \")\n",
    "print(currentGrade / 100 * 40)\n",
    "print(\"2nd Quiz Grade: \")\n",
    "print(quizGrade / 100 * 40)\n",
    "\n"
   ]
  },
  {
   "attachments": {},
   "cell_type": "markdown",
   "metadata": {},
   "source": [
    "## Procedural Abstraction\n",
    "\n",
    "- One type of abstraction is procedural abstraction which provides a name for a process and allows a procedure to be used only knowing what it does and not how it does it\n",
    "- This is very helpful in managing complexity in a program\n",
    "- Subdivision of a program into separate subprograms is called modularity \n",
    "- A procedural abstraction may extract shared features to generalize functionality instead of duplicating code. This allows for program reuse, which helps manage complexity\n",
    "- When a pre-written procedure is called, you don’t necessarily need to know the details of this, just what it does and how to call it\n",
    "- Simply, procedural abstraction is naming and calling a prewritten procedure\n",
    "- Making sure to include the right arguments so the procedure can do what its supposed to do is crucial"
   ]
  },
  {
   "cell_type": "markdown",
   "metadata": {},
   "source": [
    "## Complexity Example\n",
    "\n",
    "One of the biggest advantages of procedural abstraction is managing complexity.\n",
    "\n",
    "Think about the process of simplifying the code?\n",
    "What do you think the advantage of the code segment on the left is?\n",
    "\n",
    "|Code Segment 1|Code Segment 2|\n",
    "|--------------|--------------|\n",
    "|ROTATE_LEFT()|detourLeft()|\n",
    "MOVE_FORWARD()|turnCorner()| \n",
    "ROTATE_RIGHT  |MOVE_FORWARD()| \n",
    "MOVE_FORWARD()|MOVE_FORWARD()|\n",
    "MOVE_FORWARD()\n",
    "ROTATE_RIGHT()\n",
    "MOVE_FORWARD()\n",
    "ROTATE_LEFT()\n",
    "MOVE_FORWARD()\n",
    "ROTATE_LEFT()\n",
    "MOVE_FORWARD()\n",
    "MOVE_FORWARD\n",
    "MOVE_FORWARD()"
   ]
  },
  {
   "attachments": {},
   "cell_type": "markdown",
   "metadata": {},
   "source": [
    "## Hacks\n",
    "\n",
    "- Write a python procedure about something which can help you in school, for example the teacher’s function we spoke about earlier.\n",
    "- Points will be awarded based on creativity and functionality\n",
    "- 0.1 points will be deducted for late submissions\n",
    "- Submit the notes with all blanks filled in (scored out of 0.5 points) and the python procedure (scored out of 0.5 points) by Monday 12/12 at 11:59 PM.\n"
   ]
  },
  {
   "cell_type": "code",
   "execution_count": 20,
   "metadata": {},
   "outputs": [
    {
     "name": "stdout",
     "output_type": "stream",
     "text": [
      "Enter your homework assignments for the week:\n",
      "Here is your homework for this week!\n",
      "Day 0: CSP \n",
      "Day 1: MATH\n",
      "Day 2: ENGLISH\n",
      "Day 3: PHYSICS\n",
      "Day 4: BIOLOGY\n",
      "Day 5: COMPUTER ANIMATION\n",
      "Day 6: NONE\n"
     ]
    }
   ],
   "source": [
    "def procedure():\n",
    "  homework_list = [] # list to store the homework assignments\n",
    "\n",
    "  print(\"Enter your homework assignments for the week:\")\n",
    "  for i in range(7):\n",
    "    homework = input(\"Day \" + str(i) + \": \") # input for the homework you want\n",
    "    homework_list.append(homework) # adds the homework to end of the list \n",
    "\n",
    "  print(\"Here is your homework for this week!\")\n",
    "  for i in range(7):\n",
    "    print(\"Day \" + str(i) + \": \" + homework_list[i]) # prints HW according to order inputted\n",
    "  return\n",
    "procedure()"
   ]
  },
  {
   "cell_type": "code",
   "execution_count": 19,
   "metadata": {},
   "outputs": [
    {
     "name": "stdout",
     "output_type": "stream",
     "text": [
      "Physics Formulas:\n",
      "Work = |Force| x |Displacement| x cos(angle)\n",
      "Math Vocab:\n",
      "Absolute Maximum - The highest point of a function\n",
      "\n",
      "Now lets try removing a notecard!\n",
      "\n",
      "Physics Formulas:\n",
      "Work = |Force| x |Displacement| x cos(angle)\n",
      "Math Vocab:\n",
      "None\n"
     ]
    }
   ],
   "source": [
    "def add_notecard(topic, note): # adding a note card\n",
    "    notecards[topic] = note\n",
    "\n",
    "def get_notecard(topic): # recalling a note card\n",
    "    return notecards[topic]\n",
    "\n",
    "def rmv_notecard(topic): # removing a note card\n",
    "    del notecards[topic]\n",
    "\n",
    "notecards = {}\n",
    "\n",
    "add_notecard(\"Math Vocab\", \"Absolute Maximum - The highest point of a function\")\n",
    "add_notecard(\"Physics Formulas\", \"Work = |Force| x |Displacement| x cos(angle)\")\n",
    "\n",
    "physics_formulas = get_notecard(\"Physics Formulas\")\n",
    "math_vocab = get_notecard(\"Math Vocab\")\n",
    "\n",
    "print(\"Physics Formulas:\")\n",
    "print(physics_formulas)\n",
    "print(\"Math Vocab:\")\n",
    "print(math_vocab)\n",
    "\n",
    "print(\"\\nNow lets try removing a notecard!\\n\")\n",
    "\n",
    "math_vocab = rmv_notecard(\"Math Vocab\")\n",
    "\n",
    "print(\"Physics Formulas:\")\n",
    "print(physics_formulas)\n",
    "print(\"Math Vocab:\")\n",
    "print(math_vocab)\n",
    "\n",
    "\n"
   ]
  }
 ],
 "metadata": {
  "kernelspec": {
   "display_name": "Python 3.9.12 ('base')",
   "language": "python",
   "name": "python3"
  },
  "language_info": {
   "codemirror_mode": {
    "name": "ipython",
    "version": 3
   },
   "file_extension": ".py",
   "mimetype": "text/x-python",
   "name": "python",
   "nbconvert_exporter": "python",
   "pygments_lexer": "ipython3",
   "version": "3.9.12"
  },
  "orig_nbformat": 4,
  "vscode": {
   "interpreter": {
    "hash": "1bd6b0a8902b2cd371025e85dd17b7c0a0940e3588e8793f8be8034f5ae02310"
   }
  }
 },
 "nbformat": 4,
 "nbformat_minor": 2
}
