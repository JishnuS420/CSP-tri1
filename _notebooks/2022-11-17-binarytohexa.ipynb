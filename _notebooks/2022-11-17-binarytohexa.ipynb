{
 "cells": [
  {
   "cell_type": "markdown",
   "metadata": {},
   "source": [
    "# Binary to Hexadecimal converter \n",
    "- title: Binary to Hexa\n",
    "- toc: true\n",
    "- permalink: /bhconverter\n",
    "- tags: [Binary, Week 13]"
   ]
  },
  {
   "cell_type": "code",
   "execution_count": 25,
   "metadata": {},
   "outputs": [
    {
     "name": "stdout",
     "output_type": "stream",
     "text": [
      "Input: 15\n",
      "Output: 0xf\n"
     ]
    }
   ],
   "source": [
    "\n",
    "# Python code to convert from Binary to Hexadecimal using integer() and hexa()\n",
    "def binaryTohexa(n):\n",
    "    # convert binary to int\n",
    "    num = int(input(\"Enter a binary number\"), 2)\n",
    "      \n",
    "    # convert int to hexadecimal\n",
    "    hexa_num = hex(num)\n",
    "    print(\"Input:\", num)\n",
    "    return(hexa_num)\n",
    "\n",
    "# results\n",
    "print(\"Output:\", (binaryTohexa('n')))"
   ]
  }
 ],
 "metadata": {
  "kernelspec": {
   "display_name": "Python 3.9.12 ('base')",
   "language": "python",
   "name": "python3"
  },
  "language_info": {
   "codemirror_mode": {
    "name": "ipython",
    "version": 3
   },
   "file_extension": ".py",
   "mimetype": "text/x-python",
   "name": "python",
   "nbconvert_exporter": "python",
   "pygments_lexer": "ipython3",
   "version": "3.9.12"
  },
  "orig_nbformat": 4,
  "vscode": {
   "interpreter": {
    "hash": "1bd6b0a8902b2cd371025e85dd17b7c0a0940e3588e8793f8be8034f5ae02310"
   }
  }
 },
 "nbformat": 4,
 "nbformat_minor": 2
}
