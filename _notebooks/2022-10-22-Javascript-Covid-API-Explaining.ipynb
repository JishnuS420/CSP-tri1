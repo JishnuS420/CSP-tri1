{
 "cells": [
  {
   "cell_type": "code",
   "execution_count": 2,
   "metadata": {
    "vscode": {
     "languageId": "html"
    }
   },
   "outputs": [
    {
     "ename": "IndentationError",
     "evalue": "unindent does not match any outer indentation level (<tokenize>, line 17)",
     "output_type": "error",
     "traceback": [
      "\u001b[0;36m  File \u001b[0;32m<tokenize>:17\u001b[0;36m\u001b[0m\n\u001b[0;31m    </table>\u001b[0m\n\u001b[0m    ^\u001b[0m\n\u001b[0;31mIndentationError\u001b[0m\u001b[0;31m:\u001b[0m unindent does not match any outer indentation level\n"
     ]
    }
   ],
   "source": [
    "<!-- HTML table fragment for page -->\n",
    "<table>\n",
    "    <thead>\n",
    "    <tr>\n",
    "      <th>Time</th>\n",
    "      <th>All-time Cases</th>\n",
    "      <th>Recorded Deaths</th>\n",
    "      <th>Active Cases</th>\n",
    "    </tr>\n",
    "    </thead>\n",
    "    <tbody>\n",
    "      <td id=\"time\"></td>\n",
    "      <td id=\"total_cases\"></td>\n",
    "      <td id=\"total_deaths\"></td>\n",
    "      <td id=\"active_cases\"></td>\n",
    "    </tbody>\n",
    "  </table>\n",
    "  \n",
    "  <table>\n",
    "    <thead>\n",
    "    <tr>\n",
    "      <th>Country</th>\n",
    "      <th>All-time Cases</th>\n",
    "      <th>Recorded Deaths</th>\n",
    "      <th>Active Cases</th>\n",
    "    </tr>\n",
    "    </thead>\n",
    "    <tbody id=\"result\">\n",
    "      <!-- generated rows -->\n",
    "    </tbody>\n",
    "  </table>"
   ]
  },
  {
   "cell_type": "code",
   "execution_count": 7,
   "metadata": {
    "vscode": {
     "languageId": "html"
    }
   },
   "outputs": [
    {
     "ename": "SyntaxError",
     "evalue": "invalid syntax (3901115157.py, line 1)",
     "output_type": "error",
     "traceback": [
      "\u001b[0;36m  Input \u001b[0;32mIn [7]\u001b[0;36m\u001b[0m\n\u001b[0;31m    <!-- HTML table fragment for page -->\u001b[0m\n\u001b[0m    ^\u001b[0m\n\u001b[0;31mSyntaxError\u001b[0m\u001b[0;31m:\u001b[0m invalid syntax\n"
     ]
    }
   ],
   "source": [
    "<!-- Script is layed out in a sequence (no function) and will execute when page is loaded -->\n",
    "<script>\n",
    "  // prepare HTML result container for new output\n",
    "  const resultContainer = document.getElementById(\"result\");\n",
    "\n",
    "  // prepare fetch options\n",
    "  const url = \"https://flask.nighthawkcodingsociety.com/api/covid/\";\n",
    "  const headers = {\n",
    "    method: 'GET', // *GET, POST, PUT, DELETE, etc.\n",
    "    mode: 'cors', // no-cors, *cors, same-origin\n",
    "    cache: 'default', // *default, no-cache, reload, force-cache, only-if-cached\n",
    "    credentials: 'omit', // include, *same-origin, omit\n",
    "    headers: {\n",
    "      'Content-Type': 'application/json'\n",
    "      // 'Content-Type': 'application/x-www-form-urlencoded',\n",
    "    },\n",
    "  };\n",
    "\n",
    "  // fetch the API\n",
    "  fetch(url, headers)\n",
    "    // response is a RESTful \"promise\" on any successful fetch\n",
    "    .then(response => {\n",
    "      // check for response errors\n",
    "      if (response.status !== 200) {\n",
    "          const errorMsg = 'Database response error: ' + response.status;\n",
    "          console.log(errorMsg);\n",
    "          const tr = document.createElement(\"tr\");\n",
    "          const td = document.createElement(\"td\");\n",
    "          td.innerHTML = errorMsg;\n",
    "          tr.appendChild(td);\n",
    "          resultContainer.appendChild(tr);\n",
    "          return;\n",
    "      }\n",
    "      // valid response will have json data\n",
    "      response.json().then(data => {\n",
    "          console.log(data);\n",
    "          console.log(data.world_total)\n",
    "\n",
    "          // World Data\n",
    "          document.getElementById(\"time\").innerHTML = data.world_total.statistic_taken_at;\n",
    "          document.getElementById(\"total_cases\").innerHTML = data.world_total.total_cases;\n",
    "          document.getElementById(\"total_deaths\").innerHTML = data.world_total.total_deaths;\n",
    "          document.getElementById(\"active_cases\").innerHTML = data.world_total.active_cases;\n",
    "\n",
    "          // Country data\n",
    "          for (const row of data.countries_stat) {\n",
    "            console.log(row);\n",
    "\n",
    "            // tr for each row\n",
    "            const tr = document.createElement(\"tr\");\n",
    "            // td for each column\n",
    "            const name = document.createElement(\"td\");\n",
    "            const cases = document.createElement(\"td\");\n",
    "            const deaths = document.createElement(\"td\");\n",
    "            const active = document.createElement(\"td\");\n",
    "\n",
    "            // data is specific to the API\n",
    "            name.innerHTML = row.country_name;\n",
    "            cases.innerHTML = row.cases; \n",
    "            deaths.innerHTML = row.deaths; \n",
    "            active.innerHTML = row.active_cases; \n",
    "\n",
    "            // this builds td's into tr\n",
    "            tr.appendChild(name);\n",
    "            tr.appendChild(cases);\n",
    "            tr.appendChild(deaths);\n",
    "            tr.appendChild(active);\n",
    "\n",
    "            // add HTML to container\n",
    "            resultContainer.appendChild(tr);\n",
    "          }\n",
    "      })\n",
    "  })\n",
    "  // catch fetch errors (ie ACCESS to server blocked)\n",
    "  .catch(err => {\n",
    "    console.error(err);\n",
    "    const tr = document.createElement(\"tr\");\n",
    "    const td = document.createElement(\"td\");\n",
    "    td.innerHTML = err;\n",
    "    tr.appendChild(td);\n",
    "    resultContainer.appendChild(tr);\n",
    "  });\n",
    "</script>"
   ]
  }
 ],
 "metadata": {
  "kernelspec": {
   "display_name": "Python 3.9.12 ('base')",
   "language": "python",
   "name": "python3"
  },
  "language_info": {
   "codemirror_mode": {
    "name": "ipython",
    "version": 3
   },
   "file_extension": ".py",
   "mimetype": "text/x-python",
   "name": "python",
   "nbconvert_exporter": "python",
   "pygments_lexer": "ipython3",
   "version": "3.9.12"
  },
  "orig_nbformat": 4,
  "vscode": {
   "interpreter": {
    "hash": "1bd6b0a8902b2cd371025e85dd17b7c0a0940e3588e8793f8be8034f5ae02310"
   }
  }
 },
 "nbformat": 4,
 "nbformat_minor": 2
}
